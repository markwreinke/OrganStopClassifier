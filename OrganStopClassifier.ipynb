{
  "nbformat": 4,
  "nbformat_minor": 0,
  "metadata": {
    "colab": {
      "name": "OrganStopClassifier.ipynb",
      "provenance": [],
      "authorship_tag": "ABX9TyOx3EDuZzMKJoT5pSRZWsGf",
      "include_colab_link": true
    },
    "kernelspec": {
      "name": "python3",
      "display_name": "Python 3"
    },
    "accelerator": "GPU",
    "widgets": {
      "application/vnd.jupyter.widget-state+json": {
        "c59000f73017491183a737259d380de3": {
          "model_module": "@jupyter-widgets/controls",
          "model_name": "HBoxModel",
          "state": {
            "_view_name": "HBoxView",
            "_dom_classes": [],
            "_model_name": "HBoxModel",
            "_view_module": "@jupyter-widgets/controls",
            "_model_module_version": "1.5.0",
            "_view_count": null,
            "_view_module_version": "1.5.0",
            "box_style": "",
            "layout": "IPY_MODEL_e15704bc28b644da9532c3e3656794f2",
            "_model_module": "@jupyter-widgets/controls",
            "children": [
              "IPY_MODEL_17753866c62844c3953d271ead57014e",
              "IPY_MODEL_25c159073900457bb77289a3b8bee0fd"
            ]
          }
        },
        "e15704bc28b644da9532c3e3656794f2": {
          "model_module": "@jupyter-widgets/base",
          "model_name": "LayoutModel",
          "state": {
            "_view_name": "LayoutView",
            "grid_template_rows": null,
            "right": null,
            "justify_content": null,
            "_view_module": "@jupyter-widgets/base",
            "overflow": null,
            "_model_module_version": "1.2.0",
            "_view_count": null,
            "flex_flow": null,
            "width": null,
            "min_width": null,
            "border": null,
            "align_items": null,
            "bottom": null,
            "_model_module": "@jupyter-widgets/base",
            "top": null,
            "grid_column": null,
            "overflow_y": null,
            "overflow_x": null,
            "grid_auto_flow": null,
            "grid_area": null,
            "grid_template_columns": null,
            "flex": null,
            "_model_name": "LayoutModel",
            "justify_items": null,
            "grid_row": null,
            "max_height": null,
            "align_content": null,
            "visibility": null,
            "align_self": null,
            "height": null,
            "min_height": null,
            "padding": null,
            "grid_auto_rows": null,
            "grid_gap": null,
            "max_width": null,
            "order": null,
            "_view_module_version": "1.2.0",
            "grid_template_areas": null,
            "object_position": null,
            "object_fit": null,
            "grid_auto_columns": null,
            "margin": null,
            "display": null,
            "left": null
          }
        },
        "17753866c62844c3953d271ead57014e": {
          "model_module": "@jupyter-widgets/controls",
          "model_name": "FloatProgressModel",
          "state": {
            "_view_name": "ProgressView",
            "style": "IPY_MODEL_a6d71b5cd8a0493493ff43accc8df5b7",
            "_dom_classes": [],
            "description": "100%",
            "_model_name": "FloatProgressModel",
            "bar_style": "success",
            "max": 1277,
            "_view_module": "@jupyter-widgets/controls",
            "_model_module_version": "1.5.0",
            "value": 1277,
            "_view_count": null,
            "_view_module_version": "1.5.0",
            "orientation": "horizontal",
            "min": 0,
            "description_tooltip": null,
            "_model_module": "@jupyter-widgets/controls",
            "layout": "IPY_MODEL_463d9e03fa6c4a588cadfecb30fe9d5a"
          }
        },
        "25c159073900457bb77289a3b8bee0fd": {
          "model_module": "@jupyter-widgets/controls",
          "model_name": "HTMLModel",
          "state": {
            "_view_name": "HTMLView",
            "style": "IPY_MODEL_dac31392358f4464aaa3ea7268df10fa",
            "_dom_classes": [],
            "description": "",
            "_model_name": "HTMLModel",
            "placeholder": "​",
            "_view_module": "@jupyter-widgets/controls",
            "_model_module_version": "1.5.0",
            "value": " 1277/1277 [10:23&lt;00:00,  2.05it/s]",
            "_view_count": null,
            "_view_module_version": "1.5.0",
            "description_tooltip": null,
            "_model_module": "@jupyter-widgets/controls",
            "layout": "IPY_MODEL_389f72228f5640939aea5e0886144bf5"
          }
        },
        "a6d71b5cd8a0493493ff43accc8df5b7": {
          "model_module": "@jupyter-widgets/controls",
          "model_name": "ProgressStyleModel",
          "state": {
            "_view_name": "StyleView",
            "_model_name": "ProgressStyleModel",
            "description_width": "initial",
            "_view_module": "@jupyter-widgets/base",
            "_model_module_version": "1.5.0",
            "_view_count": null,
            "_view_module_version": "1.2.0",
            "bar_color": null,
            "_model_module": "@jupyter-widgets/controls"
          }
        },
        "463d9e03fa6c4a588cadfecb30fe9d5a": {
          "model_module": "@jupyter-widgets/base",
          "model_name": "LayoutModel",
          "state": {
            "_view_name": "LayoutView",
            "grid_template_rows": null,
            "right": null,
            "justify_content": null,
            "_view_module": "@jupyter-widgets/base",
            "overflow": null,
            "_model_module_version": "1.2.0",
            "_view_count": null,
            "flex_flow": null,
            "width": null,
            "min_width": null,
            "border": null,
            "align_items": null,
            "bottom": null,
            "_model_module": "@jupyter-widgets/base",
            "top": null,
            "grid_column": null,
            "overflow_y": null,
            "overflow_x": null,
            "grid_auto_flow": null,
            "grid_area": null,
            "grid_template_columns": null,
            "flex": null,
            "_model_name": "LayoutModel",
            "justify_items": null,
            "grid_row": null,
            "max_height": null,
            "align_content": null,
            "visibility": null,
            "align_self": null,
            "height": null,
            "min_height": null,
            "padding": null,
            "grid_auto_rows": null,
            "grid_gap": null,
            "max_width": null,
            "order": null,
            "_view_module_version": "1.2.0",
            "grid_template_areas": null,
            "object_position": null,
            "object_fit": null,
            "grid_auto_columns": null,
            "margin": null,
            "display": null,
            "left": null
          }
        },
        "dac31392358f4464aaa3ea7268df10fa": {
          "model_module": "@jupyter-widgets/controls",
          "model_name": "DescriptionStyleModel",
          "state": {
            "_view_name": "StyleView",
            "_model_name": "DescriptionStyleModel",
            "description_width": "",
            "_view_module": "@jupyter-widgets/base",
            "_model_module_version": "1.5.0",
            "_view_count": null,
            "_view_module_version": "1.2.0",
            "_model_module": "@jupyter-widgets/controls"
          }
        },
        "389f72228f5640939aea5e0886144bf5": {
          "model_module": "@jupyter-widgets/base",
          "model_name": "LayoutModel",
          "state": {
            "_view_name": "LayoutView",
            "grid_template_rows": null,
            "right": null,
            "justify_content": null,
            "_view_module": "@jupyter-widgets/base",
            "overflow": null,
            "_model_module_version": "1.2.0",
            "_view_count": null,
            "flex_flow": null,
            "width": null,
            "min_width": null,
            "border": null,
            "align_items": null,
            "bottom": null,
            "_model_module": "@jupyter-widgets/base",
            "top": null,
            "grid_column": null,
            "overflow_y": null,
            "overflow_x": null,
            "grid_auto_flow": null,
            "grid_area": null,
            "grid_template_columns": null,
            "flex": null,
            "_model_name": "LayoutModel",
            "justify_items": null,
            "grid_row": null,
            "max_height": null,
            "align_content": null,
            "visibility": null,
            "align_self": null,
            "height": null,
            "min_height": null,
            "padding": null,
            "grid_auto_rows": null,
            "grid_gap": null,
            "max_width": null,
            "order": null,
            "_view_module_version": "1.2.0",
            "grid_template_areas": null,
            "object_position": null,
            "object_fit": null,
            "grid_auto_columns": null,
            "margin": null,
            "display": null,
            "left": null
          }
        },
        "c95986c2dfa142b28e79f29a8242fd2d": {
          "model_module": "@jupyter-widgets/controls",
          "model_name": "HBoxModel",
          "state": {
            "_view_name": "HBoxView",
            "_dom_classes": [],
            "_model_name": "HBoxModel",
            "_view_module": "@jupyter-widgets/controls",
            "_model_module_version": "1.5.0",
            "_view_count": null,
            "_view_module_version": "1.5.0",
            "box_style": "",
            "layout": "IPY_MODEL_71f86c5e42de44089092c453f7b36b37",
            "_model_module": "@jupyter-widgets/controls",
            "children": [
              "IPY_MODEL_9be0911365524af2b55b950158ee5070",
              "IPY_MODEL_9b621039cc50417f8f44726c81acf321"
            ]
          }
        },
        "71f86c5e42de44089092c453f7b36b37": {
          "model_module": "@jupyter-widgets/base",
          "model_name": "LayoutModel",
          "state": {
            "_view_name": "LayoutView",
            "grid_template_rows": null,
            "right": null,
            "justify_content": null,
            "_view_module": "@jupyter-widgets/base",
            "overflow": null,
            "_model_module_version": "1.2.0",
            "_view_count": null,
            "flex_flow": null,
            "width": null,
            "min_width": null,
            "border": null,
            "align_items": null,
            "bottom": null,
            "_model_module": "@jupyter-widgets/base",
            "top": null,
            "grid_column": null,
            "overflow_y": null,
            "overflow_x": null,
            "grid_auto_flow": null,
            "grid_area": null,
            "grid_template_columns": null,
            "flex": null,
            "_model_name": "LayoutModel",
            "justify_items": null,
            "grid_row": null,
            "max_height": null,
            "align_content": null,
            "visibility": null,
            "align_self": null,
            "height": null,
            "min_height": null,
            "padding": null,
            "grid_auto_rows": null,
            "grid_gap": null,
            "max_width": null,
            "order": null,
            "_view_module_version": "1.2.0",
            "grid_template_areas": null,
            "object_position": null,
            "object_fit": null,
            "grid_auto_columns": null,
            "margin": null,
            "display": null,
            "left": null
          }
        },
        "9be0911365524af2b55b950158ee5070": {
          "model_module": "@jupyter-widgets/controls",
          "model_name": "FloatProgressModel",
          "state": {
            "_view_name": "ProgressView",
            "style": "IPY_MODEL_4f96685997b44920886082811375798c",
            "_dom_classes": [],
            "description": "100%",
            "_model_name": "FloatProgressModel",
            "bar_style": "success",
            "max": 319,
            "_view_module": "@jupyter-widgets/controls",
            "_model_module_version": "1.5.0",
            "value": 319,
            "_view_count": null,
            "_view_module_version": "1.5.0",
            "orientation": "horizontal",
            "min": 0,
            "description_tooltip": null,
            "_model_module": "@jupyter-widgets/controls",
            "layout": "IPY_MODEL_aa690ce07b84440c8a8a8589a830b26e"
          }
        },
        "9b621039cc50417f8f44726c81acf321": {
          "model_module": "@jupyter-widgets/controls",
          "model_name": "HTMLModel",
          "state": {
            "_view_name": "HTMLView",
            "style": "IPY_MODEL_969ce2d1c5bd4fd9972026f4d0081d60",
            "_dom_classes": [],
            "description": "",
            "_model_name": "HTMLModel",
            "placeholder": "​",
            "_view_module": "@jupyter-widgets/controls",
            "_model_module_version": "1.5.0",
            "value": " 319/319 [02:34&lt;00:00,  2.07it/s]",
            "_view_count": null,
            "_view_module_version": "1.5.0",
            "description_tooltip": null,
            "_model_module": "@jupyter-widgets/controls",
            "layout": "IPY_MODEL_a146c6db4783496eb23c1971304c558f"
          }
        },
        "4f96685997b44920886082811375798c": {
          "model_module": "@jupyter-widgets/controls",
          "model_name": "ProgressStyleModel",
          "state": {
            "_view_name": "StyleView",
            "_model_name": "ProgressStyleModel",
            "description_width": "initial",
            "_view_module": "@jupyter-widgets/base",
            "_model_module_version": "1.5.0",
            "_view_count": null,
            "_view_module_version": "1.2.0",
            "bar_color": null,
            "_model_module": "@jupyter-widgets/controls"
          }
        },
        "aa690ce07b84440c8a8a8589a830b26e": {
          "model_module": "@jupyter-widgets/base",
          "model_name": "LayoutModel",
          "state": {
            "_view_name": "LayoutView",
            "grid_template_rows": null,
            "right": null,
            "justify_content": null,
            "_view_module": "@jupyter-widgets/base",
            "overflow": null,
            "_model_module_version": "1.2.0",
            "_view_count": null,
            "flex_flow": null,
            "width": null,
            "min_width": null,
            "border": null,
            "align_items": null,
            "bottom": null,
            "_model_module": "@jupyter-widgets/base",
            "top": null,
            "grid_column": null,
            "overflow_y": null,
            "overflow_x": null,
            "grid_auto_flow": null,
            "grid_area": null,
            "grid_template_columns": null,
            "flex": null,
            "_model_name": "LayoutModel",
            "justify_items": null,
            "grid_row": null,
            "max_height": null,
            "align_content": null,
            "visibility": null,
            "align_self": null,
            "height": null,
            "min_height": null,
            "padding": null,
            "grid_auto_rows": null,
            "grid_gap": null,
            "max_width": null,
            "order": null,
            "_view_module_version": "1.2.0",
            "grid_template_areas": null,
            "object_position": null,
            "object_fit": null,
            "grid_auto_columns": null,
            "margin": null,
            "display": null,
            "left": null
          }
        },
        "969ce2d1c5bd4fd9972026f4d0081d60": {
          "model_module": "@jupyter-widgets/controls",
          "model_name": "DescriptionStyleModel",
          "state": {
            "_view_name": "StyleView",
            "_model_name": "DescriptionStyleModel",
            "description_width": "",
            "_view_module": "@jupyter-widgets/base",
            "_model_module_version": "1.5.0",
            "_view_count": null,
            "_view_module_version": "1.2.0",
            "_model_module": "@jupyter-widgets/controls"
          }
        },
        "a146c6db4783496eb23c1971304c558f": {
          "model_module": "@jupyter-widgets/base",
          "model_name": "LayoutModel",
          "state": {
            "_view_name": "LayoutView",
            "grid_template_rows": null,
            "right": null,
            "justify_content": null,
            "_view_module": "@jupyter-widgets/base",
            "overflow": null,
            "_model_module_version": "1.2.0",
            "_view_count": null,
            "flex_flow": null,
            "width": null,
            "min_width": null,
            "border": null,
            "align_items": null,
            "bottom": null,
            "_model_module": "@jupyter-widgets/base",
            "top": null,
            "grid_column": null,
            "overflow_y": null,
            "overflow_x": null,
            "grid_auto_flow": null,
            "grid_area": null,
            "grid_template_columns": null,
            "flex": null,
            "_model_name": "LayoutModel",
            "justify_items": null,
            "grid_row": null,
            "max_height": null,
            "align_content": null,
            "visibility": null,
            "align_self": null,
            "height": null,
            "min_height": null,
            "padding": null,
            "grid_auto_rows": null,
            "grid_gap": null,
            "max_width": null,
            "order": null,
            "_view_module_version": "1.2.0",
            "grid_template_areas": null,
            "object_position": null,
            "object_fit": null,
            "grid_auto_columns": null,
            "margin": null,
            "display": null,
            "left": null
          }
        },
        "1d542a1fd738421686689cbc0ef009a8": {
          "model_module": "@jupyter-widgets/controls",
          "model_name": "HBoxModel",
          "state": {
            "_view_name": "HBoxView",
            "_dom_classes": [],
            "_model_name": "HBoxModel",
            "_view_module": "@jupyter-widgets/controls",
            "_model_module_version": "1.5.0",
            "_view_count": null,
            "_view_module_version": "1.5.0",
            "box_style": "",
            "layout": "IPY_MODEL_a4a9312b32c64f25b00a44fc98c14114",
            "_model_module": "@jupyter-widgets/controls",
            "children": [
              "IPY_MODEL_206ceb7b2d7d4e8bb012679f141375d7",
              "IPY_MODEL_a3bcd45f02fb466795c4a8044ddbba53"
            ]
          }
        },
        "a4a9312b32c64f25b00a44fc98c14114": {
          "model_module": "@jupyter-widgets/base",
          "model_name": "LayoutModel",
          "state": {
            "_view_name": "LayoutView",
            "grid_template_rows": null,
            "right": null,
            "justify_content": null,
            "_view_module": "@jupyter-widgets/base",
            "overflow": null,
            "_model_module_version": "1.2.0",
            "_view_count": null,
            "flex_flow": null,
            "width": null,
            "min_width": null,
            "border": null,
            "align_items": null,
            "bottom": null,
            "_model_module": "@jupyter-widgets/base",
            "top": null,
            "grid_column": null,
            "overflow_y": null,
            "overflow_x": null,
            "grid_auto_flow": null,
            "grid_area": null,
            "grid_template_columns": null,
            "flex": null,
            "_model_name": "LayoutModel",
            "justify_items": null,
            "grid_row": null,
            "max_height": null,
            "align_content": null,
            "visibility": null,
            "align_self": null,
            "height": null,
            "min_height": null,
            "padding": null,
            "grid_auto_rows": null,
            "grid_gap": null,
            "max_width": null,
            "order": null,
            "_view_module_version": "1.2.0",
            "grid_template_areas": null,
            "object_position": null,
            "object_fit": null,
            "grid_auto_columns": null,
            "margin": null,
            "display": null,
            "left": null
          }
        },
        "206ceb7b2d7d4e8bb012679f141375d7": {
          "model_module": "@jupyter-widgets/controls",
          "model_name": "FloatProgressModel",
          "state": {
            "_view_name": "ProgressView",
            "style": "IPY_MODEL_b8a4b89cdf364560bcb0924460b3d35e",
            "_dom_classes": [],
            "description": "100%",
            "_model_name": "FloatProgressModel",
            "bar_style": "success",
            "max": 60,
            "_view_module": "@jupyter-widgets/controls",
            "_model_module_version": "1.5.0",
            "value": 60,
            "_view_count": null,
            "_view_module_version": "1.5.0",
            "orientation": "horizontal",
            "min": 0,
            "description_tooltip": null,
            "_model_module": "@jupyter-widgets/controls",
            "layout": "IPY_MODEL_f465d2375fe34553bfe4be54fff60293"
          }
        },
        "a3bcd45f02fb466795c4a8044ddbba53": {
          "model_module": "@jupyter-widgets/controls",
          "model_name": "HTMLModel",
          "state": {
            "_view_name": "HTMLView",
            "style": "IPY_MODEL_1118e7287ed044ddb306f3a3aa13b098",
            "_dom_classes": [],
            "description": "",
            "_model_name": "HTMLModel",
            "placeholder": "​",
            "_view_module": "@jupyter-widgets/controls",
            "_model_module_version": "1.5.0",
            "value": " 60/60 [12:29&lt;00:00, 12.49s/it]",
            "_view_count": null,
            "_view_module_version": "1.5.0",
            "description_tooltip": null,
            "_model_module": "@jupyter-widgets/controls",
            "layout": "IPY_MODEL_510046dc8df641ed98df8689bd061945"
          }
        },
        "b8a4b89cdf364560bcb0924460b3d35e": {
          "model_module": "@jupyter-widgets/controls",
          "model_name": "ProgressStyleModel",
          "state": {
            "_view_name": "StyleView",
            "_model_name": "ProgressStyleModel",
            "description_width": "initial",
            "_view_module": "@jupyter-widgets/base",
            "_model_module_version": "1.5.0",
            "_view_count": null,
            "_view_module_version": "1.2.0",
            "bar_color": null,
            "_model_module": "@jupyter-widgets/controls"
          }
        },
        "f465d2375fe34553bfe4be54fff60293": {
          "model_module": "@jupyter-widgets/base",
          "model_name": "LayoutModel",
          "state": {
            "_view_name": "LayoutView",
            "grid_template_rows": null,
            "right": null,
            "justify_content": null,
            "_view_module": "@jupyter-widgets/base",
            "overflow": null,
            "_model_module_version": "1.2.0",
            "_view_count": null,
            "flex_flow": null,
            "width": null,
            "min_width": null,
            "border": null,
            "align_items": null,
            "bottom": null,
            "_model_module": "@jupyter-widgets/base",
            "top": null,
            "grid_column": null,
            "overflow_y": null,
            "overflow_x": null,
            "grid_auto_flow": null,
            "grid_area": null,
            "grid_template_columns": null,
            "flex": null,
            "_model_name": "LayoutModel",
            "justify_items": null,
            "grid_row": null,
            "max_height": null,
            "align_content": null,
            "visibility": null,
            "align_self": null,
            "height": null,
            "min_height": null,
            "padding": null,
            "grid_auto_rows": null,
            "grid_gap": null,
            "max_width": null,
            "order": null,
            "_view_module_version": "1.2.0",
            "grid_template_areas": null,
            "object_position": null,
            "object_fit": null,
            "grid_auto_columns": null,
            "margin": null,
            "display": null,
            "left": null
          }
        },
        "1118e7287ed044ddb306f3a3aa13b098": {
          "model_module": "@jupyter-widgets/controls",
          "model_name": "DescriptionStyleModel",
          "state": {
            "_view_name": "StyleView",
            "_model_name": "DescriptionStyleModel",
            "description_width": "",
            "_view_module": "@jupyter-widgets/base",
            "_model_module_version": "1.5.0",
            "_view_count": null,
            "_view_module_version": "1.2.0",
            "_model_module": "@jupyter-widgets/controls"
          }
        },
        "510046dc8df641ed98df8689bd061945": {
          "model_module": "@jupyter-widgets/base",
          "model_name": "LayoutModel",
          "state": {
            "_view_name": "LayoutView",
            "grid_template_rows": null,
            "right": null,
            "justify_content": null,
            "_view_module": "@jupyter-widgets/base",
            "overflow": null,
            "_model_module_version": "1.2.0",
            "_view_count": null,
            "flex_flow": null,
            "width": null,
            "min_width": null,
            "border": null,
            "align_items": null,
            "bottom": null,
            "_model_module": "@jupyter-widgets/base",
            "top": null,
            "grid_column": null,
            "overflow_y": null,
            "overflow_x": null,
            "grid_auto_flow": null,
            "grid_area": null,
            "grid_template_columns": null,
            "flex": null,
            "_model_name": "LayoutModel",
            "justify_items": null,
            "grid_row": null,
            "max_height": null,
            "align_content": null,
            "visibility": null,
            "align_self": null,
            "height": null,
            "min_height": null,
            "padding": null,
            "grid_auto_rows": null,
            "grid_gap": null,
            "max_width": null,
            "order": null,
            "_view_module_version": "1.2.0",
            "grid_template_areas": null,
            "object_position": null,
            "object_fit": null,
            "grid_auto_columns": null,
            "margin": null,
            "display": null,
            "left": null
          }
        }
      }
    }
  },
  "cells": [
    {
      "cell_type": "markdown",
      "metadata": {
        "id": "view-in-github",
        "colab_type": "text"
      },
      "source": [
        "<a href=\"https://colab.research.google.com/github/markwreinke/OrganStopClassifier/blob/main/OrganStopClassifier.ipynb\" target=\"_parent\"><img src=\"https://colab.research.google.com/assets/colab-badge.svg\" alt=\"Open In Colab\"/></a>"
      ]
    },
    {
      "cell_type": "markdown",
      "metadata": {
        "id": "ZV0771-ydLFm"
      },
      "source": [
        "This is the actual organ stop classifier program."
      ]
    },
    {
      "cell_type": "code",
      "metadata": {
        "id": "607PkKdZZc0y"
      },
      "source": [
        "# Start with the imports\n",
        "import pandas as pd\n",
        "import librosa\n",
        "import numpy as np\n",
        "import matplotlib.pyplot as plt\n",
        "import librosa.display\n",
        "import torch\n",
        "import torch.nn as nn\n",
        "import torch.nn.functional as F\n",
        "import torch.optim as optim\n",
        "from torch.utils.data import Dataset, DataLoader\n",
        "from tqdm import tqdm_notebook as tqdm\n",
        "import os"
      ],
      "execution_count": 1,
      "outputs": []
    },
    {
      "cell_type": "code",
      "metadata": {
        "colab": {
          "base_uri": "https://localhost:8080/"
        },
        "id": "PpjhbLBwdTfE",
        "outputId": "6406d517-6953-462f-9191-75ef08d9822f"
      },
      "source": [
        "# Mount GoogleDrive, cd and confirm current directory\n",
        "from google.colab import drive\n",
        "drive.mount(\"/content/drive\")\n",
        "\n",
        "dir = \"/content/drive/My Drive/OrganStopDataset\"\n",
        "print(os.getcwd())\n",
        "\n",
        "if(os.getcwd() != dir):\n",
        "  os.chdir(dir)\n",
        "\n",
        "print(os.getcwd())"
      ],
      "execution_count": 2,
      "outputs": [
        {
          "output_type": "stream",
          "text": [
            "Mounted at /content/drive\n",
            "/content\n",
            "/content/drive/My Drive/OrganStopDataset\n"
          ],
          "name": "stdout"
        }
      ]
    },
    {
      "cell_type": "code",
      "metadata": {
        "id": "D52yGazBfHa1"
      },
      "source": [
        "# Here we are reading a comma separated values (CSV) file using pandas into the \n",
        "# variable df. df is type a 2D data structure with labeled axes, \n",
        "# as a DataFrame or TextParser\n",
        "df = pd.read_csv('organstopClassifierDirectory.csv')"
      ],
      "execution_count": 4,
      "outputs": []
    },
    {
      "cell_type": "code",
      "metadata": {
        "colab": {
          "base_uri": "https://localhost:8080/",
          "height": 195
        },
        "id": "gyDDidxVgnx1",
        "outputId": "b9691e93-1ba8-4ef4-919a-56c06ce50f6e"
      },
      "source": [
        "# Return the first n rows of the DataFrame. n defaults to 5 with no args\n",
        "df.head()"
      ],
      "execution_count": 5,
      "outputs": [
        {
          "output_type": "execute_result",
          "data": {
            "text/html": [
              "<div>\n",
              "<style scoped>\n",
              "    .dataframe tbody tr th:only-of-type {\n",
              "        vertical-align: middle;\n",
              "    }\n",
              "\n",
              "    .dataframe tbody tr th {\n",
              "        vertical-align: top;\n",
              "    }\n",
              "\n",
              "    .dataframe thead th {\n",
              "        text-align: right;\n",
              "    }\n",
              "</style>\n",
              "<table border=\"1\" class=\"dataframe\">\n",
              "  <thead>\n",
              "    <tr style=\"text-align: right;\">\n",
              "      <th></th>\n",
              "      <th>filename</th>\n",
              "      <th>fold</th>\n",
              "      <th>category 1</th>\n",
              "      <th>category 2</th>\n",
              "    </tr>\n",
              "  </thead>\n",
              "  <tbody>\n",
              "    <tr>\n",
              "      <th>0</th>\n",
              "      <td>Krummhorn8AT4051Left-Live10 AT4051 Left.wav</td>\n",
              "      <td>1</td>\n",
              "      <td>Krummhorn8</td>\n",
              "      <td>AT4051</td>\n",
              "    </tr>\n",
              "    <tr>\n",
              "      <th>1</th>\n",
              "      <td>Krummhorn8AT4051Left-Live10 AT4051 Left-1.wav</td>\n",
              "      <td>2</td>\n",
              "      <td>Krummhorn8</td>\n",
              "      <td>AT4051</td>\n",
              "    </tr>\n",
              "    <tr>\n",
              "      <th>2</th>\n",
              "      <td>Krummhorn8AT4051Left-Live10 AT4051 Left-2.wav</td>\n",
              "      <td>3</td>\n",
              "      <td>Krummhorn8</td>\n",
              "      <td>AT4051</td>\n",
              "    </tr>\n",
              "    <tr>\n",
              "      <th>3</th>\n",
              "      <td>Krummhorn8AT4051Left-Live10 AT4051 Left-3.wav</td>\n",
              "      <td>4</td>\n",
              "      <td>Krummhorn8</td>\n",
              "      <td>AT4051</td>\n",
              "    </tr>\n",
              "    <tr>\n",
              "      <th>4</th>\n",
              "      <td>Krummhorn8AT4051Left-Live10 AT4051 Left-4.wav</td>\n",
              "      <td>5</td>\n",
              "      <td>Krummhorn8</td>\n",
              "      <td>AT4051</td>\n",
              "    </tr>\n",
              "  </tbody>\n",
              "</table>\n",
              "</div>"
            ],
            "text/plain": [
              "                                        filename  fold  category 1 category 2\n",
              "0    Krummhorn8AT4051Left-Live10 AT4051 Left.wav     1  Krummhorn8     AT4051\n",
              "1  Krummhorn8AT4051Left-Live10 AT4051 Left-1.wav     2  Krummhorn8     AT4051\n",
              "2  Krummhorn8AT4051Left-Live10 AT4051 Left-2.wav     3  Krummhorn8     AT4051\n",
              "3  Krummhorn8AT4051Left-Live10 AT4051 Left-3.wav     4  Krummhorn8     AT4051\n",
              "4  Krummhorn8AT4051Left-Live10 AT4051 Left-4.wav     5  Krummhorn8     AT4051"
            ]
          },
          "metadata": {
            "tags": []
          },
          "execution_count": 5
        }
      ]
    },
    {
      "cell_type": "code",
      "metadata": {
        "id": "P-g2JWsRgpua"
      },
      "source": [
        "# The data was sorted into 5 \"Cross-validation\" folds, in which here, the first\n",
        "# four are used as training data, and the fifth is a validation set\n",
        "# Here's the paper: http://karol.piczak.com/papers/Piczak2015-ESC-Dataset.pdf\n",
        "train = df[df['fold']!=5]\n",
        "valid = df[df['fold']==5]"
      ],
      "execution_count": 6,
      "outputs": []
    },
    {
      "cell_type": "code",
      "metadata": {
        "colab": {
          "base_uri": "https://localhost:8080/"
        },
        "id": "70TMtnVSgtOK",
        "outputId": "b52598ce-8fd5-425a-8586-a3829c083975"
      },
      "source": [
        "# Load a filewith librosa, and display its sampling rate and length\n",
        "wav, sr = librosa.load('SampleDataset/Krummhorn8AT4051Left-Live10 AT4051 Left.wav', sr=None)\n",
        "print(f'Sampling rate of the audio is {sr} and length of the audio is {len(wav)/sr} seconds')"
      ],
      "execution_count": 7,
      "outputs": [
        {
          "output_type": "stream",
          "text": [
            "Sampling rate of the audio is 44100 and length of the audio is 1.0 seconds\n"
          ],
          "name": "stdout"
        }
      ]
    },
    {
      "cell_type": "code",
      "metadata": {
        "id": "WPurTuRRg7GU"
      },
      "source": [
        "# Here we are going to convert a Spectrogram into an image\n",
        "def spec_to_image(spec, eps=1e-6):\n",
        "  mean = spec.mean()\n",
        "  std = spec.std()\n",
        "  spec_norm = (spec - mean) / (std + eps)\n",
        "  spec_min, spec_max = spec_norm.min(), spec_norm.max()\n",
        "  spec_scaled = 255 * (spec_norm - spec_min) / (spec_max - spec_min)\n",
        "  spec_scaled = spec_scaled.astype(np.uint8)\n",
        "  return spec_scaled\n",
        "\n",
        "  # This spectrogram is normalized using z score normalization and \n",
        "  # scaled using min-max scaling so its values lie between 0 and 255"
      ],
      "execution_count": 8,
      "outputs": []
    },
    {
      "cell_type": "code",
      "metadata": {
        "id": "_cMbLtueg8m0"
      },
      "source": [
        "# This function give a mel spectrogram of the given file\n",
        "#  sr=None -> Librosa should use the native sampling rate of 44.1KHz to load the audio data instead of the default of 22.05KHz\n",
        "#  Next the first 5 seconds of given audio is extracted\n",
        "#  2048 samples are chosen for each window (about 46ms)\n",
        "#  A hop_length of 512 samples is chose, meaning the window is moved by skipping 512 samples to get the next time frame\n",
        "#  The number of mel filters is 128, makes the height of the spectrogram image 128\n",
        "#  fmin and fmax are the lowest and highest frequencies\n",
        "def get_melspectrogram_db(file_path, sr=None, n_fft=2048, hop_length=512, n_mels=128, fmin=20, fmax=8300, top_db=80):\n",
        "  wav, sr = librosa.load(file_path, sr=sr)\n",
        "  if wav.shape[0]<5*sr:\n",
        "     wav=np.pad(wav,int(np.ceil((5*sr-wav.shape[0])/2)),mode='reflect')\n",
        "  else:\n",
        "    wav=wav[:5*sr]\n",
        "\n",
        "  spec=librosa.feature.melspectrogram(wav, sr=sr, n_fft=n_fft, hop_length=hop_length, n_mels=n_mels, fmin=fmin, fmax=fmax)\n",
        "\n",
        "  #Librosa squares the magnitude of the spectrogram when constructing Mel Spectrogram, so we use power_to_db to convert power magnitude to decipels. top_db is used to threshold the output.\n",
        "  spec_db=librosa.power_to_db(spec, top_db=top_db)\n",
        "  return spec_db"
      ],
      "execution_count": 9,
      "outputs": []
    },
    {
      "cell_type": "code",
      "metadata": {
        "colab": {
          "base_uri": "https://localhost:8080/",
          "height": 235,
          "referenced_widgets": [
            "c59000f73017491183a737259d380de3",
            "e15704bc28b644da9532c3e3656794f2",
            "17753866c62844c3953d271ead57014e",
            "25c159073900457bb77289a3b8bee0fd",
            "a6d71b5cd8a0493493ff43accc8df5b7",
            "463d9e03fa6c4a588cadfecb30fe9d5a",
            "dac31392358f4464aaa3ea7268df10fa",
            "389f72228f5640939aea5e0886144bf5",
            "c95986c2dfa142b28e79f29a8242fd2d",
            "71f86c5e42de44089092c453f7b36b37",
            "9be0911365524af2b55b950158ee5070",
            "9b621039cc50417f8f44726c81acf321",
            "4f96685997b44920886082811375798c",
            "aa690ce07b84440c8a8a8589a830b26e",
            "969ce2d1c5bd4fd9972026f4d0081d60",
            "a146c6db4783496eb23c1971304c558f"
          ]
        },
        "id": "6_-2EL_8hAC_",
        "outputId": "e26c1bfa-1fbb-49c2-d979-12f7ce9cf62a"
      },
      "source": [
        "# This is us loading data into pytorch by building dataloaders to\n",
        "# preprocess and load data.\n",
        "\n",
        "class OrganStopSamples(Dataset):\n",
        "  def __init__(self, base, df, in_col, out_col):\n",
        "    self.df = df\n",
        "    self.data = []\n",
        "    self.labels = []\n",
        "    self.c2i = {}\n",
        "    self.i2c = {}\n",
        "    self.categories = sorted(df[out_col].unique())\n",
        "    for i, category in enumerate(self.categories):\n",
        "      self.c2i[category] = i\n",
        "      self.i2c[i] = category\n",
        "    for ind in tqdm(range(len(df))):\n",
        "      row = df.iloc[ind]\n",
        "      file_path = os.path.join(base, row[in_col])\n",
        "      # print(\"base: \", base, \"\\nin_col: \", in_col, \"\\nrow[in_col]: \", row[in_col], \"\\nfile_path:\", file_path)\n",
        "      self.data.append(spec_to_image(get_melspectrogram_db(file_path))[np.newaxis,...])\n",
        "      self.labels.append(self.c2i[row['category 1']])\n",
        "\n",
        "  def __len__(self):\n",
        "     return len(self.data)\n",
        "  def __getitem__(self, idx):\n",
        "    return self.data[idx], self.labels[idx]\n",
        "\n",
        "train_data = OrganStopSamples('SampleDataset', train, 'filename', 'category 1')\n",
        "valid_data = OrganStopSamples('SampleDataset', valid, 'filename', 'category 1')\n",
        "train_loader = DataLoader(train_data, batch_size = 16, shuffle = True)\n",
        "valid_loader = DataLoader(valid_data, batch_size = 16, shuffle = True)"
      ],
      "execution_count": 10,
      "outputs": [
        {
          "output_type": "stream",
          "text": [
            "/usr/local/lib/python3.6/dist-packages/ipykernel_launcher.py:15: TqdmDeprecationWarning: This function will be removed in tqdm==5.0.0\n",
            "Please use `tqdm.notebook.tqdm` instead of `tqdm.tqdm_notebook`\n",
            "  from ipykernel import kernelapp as app\n"
          ],
          "name": "stderr"
        },
        {
          "output_type": "display_data",
          "data": {
            "application/vnd.jupyter.widget-view+json": {
              "model_id": "c59000f73017491183a737259d380de3",
              "version_minor": 0,
              "version_major": 2
            },
            "text/plain": [
              "HBox(children=(FloatProgress(value=0.0, max=1277.0), HTML(value='')))"
            ]
          },
          "metadata": {
            "tags": []
          }
        },
        {
          "output_type": "stream",
          "text": [
            "\n"
          ],
          "name": "stdout"
        },
        {
          "output_type": "stream",
          "text": [
            "/usr/local/lib/python3.6/dist-packages/ipykernel_launcher.py:15: TqdmDeprecationWarning: This function will be removed in tqdm==5.0.0\n",
            "Please use `tqdm.notebook.tqdm` instead of `tqdm.tqdm_notebook`\n",
            "  from ipykernel import kernelapp as app\n"
          ],
          "name": "stderr"
        },
        {
          "output_type": "display_data",
          "data": {
            "application/vnd.jupyter.widget-view+json": {
              "model_id": "c95986c2dfa142b28e79f29a8242fd2d",
              "version_minor": 0,
              "version_major": 2
            },
            "text/plain": [
              "HBox(children=(FloatProgress(value=0.0, max=319.0), HTML(value='')))"
            ]
          },
          "metadata": {
            "tags": []
          }
        },
        {
          "output_type": "stream",
          "text": [
            "\n"
          ],
          "name": "stdout"
        }
      ]
    },
    {
      "cell_type": "code",
      "metadata": {
        "id": "aUjUfMb5k15v"
      },
      "source": [
        "# This is its own model, not the resnet34\n",
        "class OrganStopModel(nn.Module):\n",
        "  def __init__(self, input_shape, batch_size=16, num_cats=50):\n",
        "    super().__init__()\n",
        "    self.conv1 = nn.Conv2d(1, 32, kernel_size = 3, stride=1, padding=1)\n",
        "    self.bn1 = nn.BatchNorm2d(32)\n",
        "    self.conv2 = nn.Conv2d(32, 32, kernel_size = 3, stride=1, padding=1)\n",
        "    self.bn2 = nn.BatchNorm2d(32)\n",
        "    self.conv3 = nn.Conv2d(32, 64, kernel_size=3, stride=1, padding=1)\n",
        "    self.bn3 = nn.BatchNorm2d(64)\n",
        "    self.conv4 = nn.Conv2d(64, 64, kernel_size=3, stride=1, padding=1)\n",
        "    self.bn4 = nn.BatchNorm2d(64)\n",
        "    self.conv5 = nn.Conv2d(64, 128, kernel_size=3, stride=1, padding=1)\n",
        "    self.bn5 = nn.BatchNorm2d(128)\n",
        "    self.conv6 = nn.Conv2d(128, 128, kernel_size=3, stride=1, padding=1)\n",
        "    self.bn6 = nn.BatchNorm2d(128)\n",
        "    self.conv7 = nn.Conv2d(128, 256, kernel_size=3, stride=1, padding=1)\n",
        "    self.bn7 = nn.BatchNorm2d(256)\n",
        "    self.conv8 = nn.Conv2d(256, 256, kernel_size=3, stride=1, padding=1)\n",
        "    self.bn8 = nn.BatchNorm2d(256)\n",
        "    self.dense1 = nn.Linear(256*(((input_shape[1]//2)//2)//2)*(((input_shape[2]//2)//2)//2),500)\n",
        "    self.dropout = nn.Dropout(0.5)\n",
        "    self.dense2 = nn.Linear(500, num_cats)\n",
        "  def forward(self, x):\n",
        "    x = self.conv1(x)\n",
        "    x = F.relu(self.bn1(x))\n",
        "    x = self.conv2(x)\n",
        "    x = F.relu(self.bn2(x))\n",
        "    x = F.max_pool2d(x, kernel_size=2) \n",
        "    x = self.conv3(x)\n",
        "    x = F.relu(self.bn3(x))\n",
        "    x = self.conv4(x)\n",
        "    x = F.relu(self.bn4(x))\n",
        "    x = F.max_pool2d(x, kernel_size=2)\n",
        "    x = self.conv5(x)\n",
        "    x = F.relu(self.bn5(x))\n",
        "    x = self.conv6(x)\n",
        "    x = F.relu(self.bn6(x))\n",
        "    x = F.max_pool2d(x, kernel_size=2)\n",
        "    x = self.conv7(x)\n",
        "    x = F.relu(self.bn7(x))\n",
        "    x = self.conv8(x)\n",
        "    x = F.relu(self.bn8(x))\n",
        "    x = x.view(x.size(0),-1)\n",
        "    x = F.relu(self.dense1(x))\n",
        "    x = self.dropout(x)\n",
        "    x = self.dense2(x)\n",
        "    return x"
      ],
      "execution_count": 12,
      "outputs": []
    },
    {
      "cell_type": "code",
      "metadata": {
        "id": "mnL92PlvluLB"
      },
      "source": [
        "if torch.cuda.is_available():\n",
        "  device=torch.device('cuda:0')\n",
        "else:\n",
        "  device=torch.device('cpu')"
      ],
      "execution_count": 13,
      "outputs": []
    },
    {
      "cell_type": "code",
      "metadata": {
        "id": "_tCH1LP2lzQ5"
      },
      "source": [
        "model = OrganStopModel(input_shape=(1,128,431), batch_size=16, num_cats=50).to(device)"
      ],
      "execution_count": 14,
      "outputs": []
    },
    {
      "cell_type": "code",
      "metadata": {
        "id": "MrX81Y-zlqvB"
      },
      "source": [
        "loss_fn = nn.CrossEntropyLoss()\n",
        "learning_rate = 2e-5\n",
        "optimizer = optim.Adam(model.parameters(), lr=learning_rate)\n",
        "epochs = 60\n",
        "train_losses = []\n",
        "valid_losses = []"
      ],
      "execution_count": 15,
      "outputs": []
    },
    {
      "cell_type": "code",
      "metadata": {
        "id": "QRsbpu2ElVSf"
      },
      "source": [
        "def setlr(optimizer, lr):\n",
        "  for param_group in optimizer.param_groups:\n",
        "    param_group['lr'] = lr\n",
        "\n",
        "  return optimizer"
      ],
      "execution_count": 16,
      "outputs": []
    },
    {
      "cell_type": "code",
      "metadata": {
        "id": "RKTT-Tu5llZI"
      },
      "source": [
        "def train(model, loss_fn, train_loader, valid_loader, epochs, optimizer, train_losses, valid_losses, change_lr=None):\n",
        "  for epoch in tqdm(range(1,epochs+1)):\n",
        "    model.train()\n",
        "    batch_losses=[]\n",
        "    if change_lr:\n",
        "      optimizer = change_lr(optimizer, epoch)\n",
        "    for i, data in enumerate(train_loader):\n",
        "      x, y = data\n",
        "      optimizer.zero_grad()\n",
        "      x = x.to(device, dtype=torch.float32)\n",
        "      y = y.to(device, dtype=torch.long)\n",
        "      y_hat = model(x)\n",
        "      loss = loss_fn(y_hat, y)\n",
        "      loss.backward()\n",
        "      batch_losses.append(loss.item())\n",
        "      optimizer.step()\n",
        "    train_losses.append(batch_losses)\n",
        "    print(f'Epoch - {epoch} Train-Loss : {np.mean(train_losses[-1])}')\n",
        "    model.eval()\n",
        "    batch_losses=[]\n",
        "    trace_y = []\n",
        "    trace_yhat = []\n",
        "    for i, data in enumerate(valid_loader):\n",
        "      x, y = data\n",
        "      x = x.to(device, dtype=torch.float32)\n",
        "      y = y.to(device, dtype=torch.long)\n",
        "      y_hat = model(x)\n",
        "      loss = loss_fn(y_hat, y)\n",
        "      trace_y.append(y.cpu().detach().numpy())\n",
        "      trace_yhat.append(y_hat.cpu().detach().numpy())      \n",
        "      batch_losses.append(loss.item())\n",
        "    valid_losses.append(batch_losses)\n",
        "    trace_y = np.concatenate(trace_y)\n",
        "    trace_yhat = np.concatenate(trace_yhat)\n",
        "    accuracy = np.mean(trace_yhat.argmax(axis=1)==trace_y)\n",
        "    print(f'Epoch - {epoch} Valid-Loss : {np.mean(valid_losses[-1])} Valid-Accuracy : {accuracy}')"
      ],
      "execution_count": 18,
      "outputs": []
    },
    {
      "cell_type": "code",
      "metadata": {
        "colab": {
          "base_uri": "https://localhost:8080/",
          "height": 1000,
          "referenced_widgets": [
            "1d542a1fd738421686689cbc0ef009a8",
            "a4a9312b32c64f25b00a44fc98c14114",
            "206ceb7b2d7d4e8bb012679f141375d7",
            "a3bcd45f02fb466795c4a8044ddbba53",
            "b8a4b89cdf364560bcb0924460b3d35e",
            "f465d2375fe34553bfe4be54fff60293",
            "1118e7287ed044ddb306f3a3aa13b098",
            "510046dc8df641ed98df8689bd061945"
          ]
        },
        "id": "Drc49aEPlf0k",
        "outputId": "43aba121-4ee8-4537-d1b9-aa9ab3b95f9a"
      },
      "source": [
        "def lr_decay(optimizer, epoch):\n",
        "  if epoch%20==0:\n",
        "    new_lr = learning_rate / (10**(epoch//20))\n",
        "    optimizer = setlr(optimizer, new_lr)\n",
        "    print(f'Changed learning rate to {new_lr}')\n",
        "  return optimizer\n",
        "train(model, loss_fn, train_loader, valid_loader, epochs, optimizer, train_losses, valid_losses, lr_decay)"
      ],
      "execution_count": 19,
      "outputs": [
        {
          "output_type": "stream",
          "text": [
            "/usr/local/lib/python3.6/dist-packages/ipykernel_launcher.py:2: TqdmDeprecationWarning: This function will be removed in tqdm==5.0.0\n",
            "Please use `tqdm.notebook.tqdm` instead of `tqdm.tqdm_notebook`\n",
            "  \n"
          ],
          "name": "stderr"
        },
        {
          "output_type": "display_data",
          "data": {
            "application/vnd.jupyter.widget-view+json": {
              "model_id": "1d542a1fd738421686689cbc0ef009a8",
              "version_minor": 0,
              "version_major": 2
            },
            "text/plain": [
              "HBox(children=(FloatProgress(value=0.0, max=60.0), HTML(value='')))"
            ]
          },
          "metadata": {
            "tags": []
          }
        },
        {
          "output_type": "stream",
          "text": [
            "Epoch - 1 Train-Loss : 0.08836698566976083\n",
            "Epoch - 1 Valid-Loss : 0.04857312029258463 Valid-Accuracy : 0.9968652037617555\n",
            "Epoch - 2 Train-Loss : 0.01248768050005199\n",
            "Epoch - 2 Valid-Loss : 0.10595577701914338 Valid-Accuracy : 0.9968652037617555\n",
            "Epoch - 3 Train-Loss : 0.0038507962729612656\n",
            "Epoch - 3 Valid-Loss : 0.05476015793601503 Valid-Accuracy : 0.9968652037617555\n",
            "Epoch - 4 Train-Loss : 0.00025641708582067044\n",
            "Epoch - 4 Valid-Loss : 0.04681281300875686 Valid-Accuracy : 0.9968652037617555\n",
            "Epoch - 5 Train-Loss : 0.0038475689352148678\n",
            "Epoch - 5 Valid-Loss : 0.12244336835979926 Valid-Accuracy : 0.9968652037617555\n",
            "Epoch - 6 Train-Loss : 0.0002998857708877978\n",
            "Epoch - 6 Valid-Loss : 0.07026953741892425 Valid-Accuracy : 0.9968652037617555\n",
            "Epoch - 7 Train-Loss : 3.4525037136756695e-05\n",
            "Epoch - 7 Valid-Loss : 0.07963233776390495 Valid-Accuracy : 0.9968652037617555\n",
            "Epoch - 8 Train-Loss : 0.0008871149815874557\n",
            "Epoch - 8 Valid-Loss : 0.12789289361247072 Valid-Accuracy : 0.9968652037617555\n",
            "Epoch - 9 Train-Loss : 0.00018148962252529933\n",
            "Epoch - 9 Valid-Loss : 0.1074599031358957 Valid-Accuracy : 0.9968652037617555\n",
            "Epoch - 10 Train-Loss : 2.6429943103883912e-05\n",
            "Epoch - 10 Valid-Loss : 0.10140719413757324 Valid-Accuracy : 0.9968652037617555\n",
            "Epoch - 11 Train-Loss : 2.0134614358569003e-07\n",
            "Epoch - 11 Valid-Loss : 0.09959326386451721 Valid-Accuracy : 0.9968652037617555\n",
            "Epoch - 12 Train-Loss : 6.830022242387823e-06\n",
            "Epoch - 12 Valid-Loss : 0.09381424188613892 Valid-Accuracy : 0.9968652037617555\n",
            "Epoch - 13 Train-Loss : 1.3205610307487348e-07\n",
            "Epoch - 13 Valid-Loss : 0.09894168376922607 Valid-Accuracy : 0.9968652037617555\n",
            "Epoch - 14 Train-Loss : 2.915023644134429e-08\n",
            "Epoch - 14 Valid-Loss : 0.09879614114761352 Valid-Accuracy : 0.9968652037617555\n",
            "Epoch - 15 Train-Loss : 5.529135316817424e-08\n",
            "Epoch - 15 Valid-Loss : 0.10059741735458375 Valid-Accuracy : 0.9968652037617555\n",
            "Epoch - 16 Train-Loss : 3.725280999788971e-08\n",
            "Epoch - 16 Valid-Loss : 0.10130473375320434 Valid-Accuracy : 0.9968652037617555\n",
            "Epoch - 17 Train-Loss : 4.843571360657606e-08\n",
            "Epoch - 17 Valid-Loss : 0.09779591560363769 Valid-Accuracy : 0.9968652037617555\n",
            "Epoch - 18 Train-Loss : 3.8928764245493853e-08\n",
            "Epoch - 18 Valid-Loss : 0.09676971435546874 Valid-Accuracy : 0.9968652037617555\n",
            "Epoch - 19 Train-Loss : 8.158091206467155e-08\n",
            "Epoch - 19 Valid-Loss : 0.09699742794036866 Valid-Accuracy : 0.9968652037617555\n",
            "Changed learning rate to 2.0000000000000003e-06\n",
            "Epoch - 20 Train-Loss : 2.757901883732039e-06\n",
            "Epoch - 20 Valid-Loss : 0.10081708431243896 Valid-Accuracy : 0.9968652037617555\n",
            "Epoch - 21 Train-Loss : 2.8662388591449427e-07\n",
            "Epoch - 21 Valid-Loss : 0.09927147626876831 Valid-Accuracy : 0.9968652037617555\n",
            "Epoch - 22 Train-Loss : 1.2114350456116086e-08\n",
            "Epoch - 22 Valid-Loss : 0.10143697261810303 Valid-Accuracy : 0.9968652037617555\n",
            "Epoch - 23 Train-Loss : 2.942964956176297e-08\n",
            "Epoch - 23 Valid-Loss : 0.10043494701385498 Valid-Accuracy : 0.9968652037617555\n",
            "Epoch - 24 Train-Loss : 2.176620300387011e-07\n",
            "Epoch - 24 Valid-Loss : 0.09550263881683349 Valid-Accuracy : 0.9968652037617555\n",
            "Epoch - 25 Train-Loss : 5.178129380833951e-08\n",
            "Epoch - 25 Valid-Loss : 0.09871529340744019 Valid-Accuracy : 0.9968652037617555\n",
            "Epoch - 26 Train-Loss : 1.2329823909640325e-07\n",
            "Epoch - 26 Valid-Loss : 0.10002052783966064 Valid-Accuracy : 0.9968652037617555\n",
            "Epoch - 27 Train-Loss : 9.088270926371766e-06\n",
            "Epoch - 27 Valid-Loss : 0.09783409237861633 Valid-Accuracy : 0.9968652037617555\n",
            "Epoch - 28 Train-Loss : 3.622828123051036e-08\n",
            "Epoch - 28 Valid-Loss : 0.09612572193145752 Valid-Accuracy : 0.9968652037617555\n",
            "Epoch - 29 Train-Loss : 4.1536394951302566e-08\n",
            "Epoch - 29 Valid-Loss : 0.09979685544967651 Valid-Accuracy : 0.9968652037617555\n",
            "Epoch - 30 Train-Loss : 1.9930202449502944e-08\n",
            "Epoch - 30 Valid-Loss : 0.10004673004150391 Valid-Accuracy : 0.9968652037617555\n",
            "Epoch - 31 Train-Loss : 2.6076970960353663e-08\n",
            "Epoch - 31 Valid-Loss : 0.09671880006790161 Valid-Accuracy : 0.9968652037617555\n",
            "Epoch - 32 Train-Loss : 4.0937644217309276e-07\n",
            "Epoch - 32 Valid-Loss : 0.08953601717948914 Valid-Accuracy : 0.9968652037617555\n",
            "Epoch - 33 Train-Loss : 1.211842449333478e-07\n",
            "Epoch - 33 Valid-Loss : 0.0957759976387024 Valid-Accuracy : 0.9968652037617555\n",
            "Epoch - 34 Train-Loss : 1.529515108456003e-08\n",
            "Epoch - 34 Valid-Loss : 0.09311648011207581 Valid-Accuracy : 0.9968652037617555\n",
            "Epoch - 35 Train-Loss : 5.981772643215421e-07\n",
            "Epoch - 35 Valid-Loss : 0.09782842993736267 Valid-Accuracy : 0.9968652037617555\n",
            "Epoch - 36 Train-Loss : 2.1792901067074766e-08\n",
            "Epoch - 36 Valid-Loss : 0.09927968978881836 Valid-Accuracy : 0.9968652037617555\n",
            "Epoch - 37 Train-Loss : 1.3690425493262381e-08\n",
            "Epoch - 37 Valid-Loss : 0.09738807678222657 Valid-Accuracy : 0.9968652037617555\n",
            "Epoch - 38 Train-Loss : 6.597944789410448e-08\n",
            "Epoch - 38 Valid-Loss : 0.0959013819694519 Valid-Accuracy : 0.9968652037617555\n",
            "Epoch - 39 Train-Loss : 4.4362084503091204e-07\n",
            "Epoch - 39 Valid-Loss : 0.10292625427246094 Valid-Accuracy : 0.9968652037617555\n",
            "Changed learning rate to 2.0000000000000002e-07\n",
            "Epoch - 40 Train-Loss : 1.9167017460408607e-07\n",
            "Epoch - 40 Valid-Loss : 0.09790806770324707 Valid-Accuracy : 0.9968652037617555\n",
            "Epoch - 41 Train-Loss : 1.1073098038494322e-07\n",
            "Epoch - 41 Valid-Loss : 0.10549522638320923 Valid-Accuracy : 0.9968652037617555\n",
            "Epoch - 42 Train-Loss : 9.212194725161105e-07\n",
            "Epoch - 42 Valid-Loss : 0.09762682914733886 Valid-Accuracy : 0.9968652037617555\n",
            "Epoch - 43 Train-Loss : 1.9192894488706535e-07\n",
            "Epoch - 43 Valid-Loss : 0.09524769186973572 Valid-Accuracy : 0.9968652037617555\n",
            "Epoch - 44 Train-Loss : 2.905698210931007e-08\n",
            "Epoch - 44 Valid-Loss : 0.0979354739189148 Valid-Accuracy : 0.9968652037617555\n",
            "Epoch - 45 Train-Loss : 1.8905821730363926e-08\n",
            "Epoch - 45 Valid-Loss : 0.09714640378952026 Valid-Accuracy : 0.9968652037617555\n",
            "Epoch - 46 Train-Loss : 2.6864985958052756e-08\n",
            "Epoch - 46 Valid-Loss : 0.09472163915634155 Valid-Accuracy : 0.9968652037617555\n",
            "Epoch - 47 Train-Loss : 4.5381741957672973e-07\n",
            "Epoch - 47 Valid-Loss : 0.09532439708709717 Valid-Accuracy : 0.9968652037617555\n",
            "Epoch - 48 Train-Loss : 5.9203850465316956e-06\n",
            "Epoch - 48 Valid-Loss : 0.09996546506881714 Valid-Accuracy : 0.9968652037617555\n",
            "Epoch - 49 Train-Loss : 6.52844865500768e-08\n",
            "Epoch - 49 Valid-Loss : 0.10038425922393798 Valid-Accuracy : 0.9968652037617555\n",
            "Epoch - 50 Train-Loss : 6.472125636425296e-07\n",
            "Epoch - 50 Valid-Loss : 0.10453197956085206 Valid-Accuracy : 0.9968652037617555\n",
            "Epoch - 51 Train-Loss : 4.781962802402617e-08\n",
            "Epoch - 51 Valid-Loss : 0.09765574932098389 Valid-Accuracy : 0.9968652037617555\n",
            "Epoch - 52 Train-Loss : 1.4211067707603499e-07\n",
            "Epoch - 52 Valid-Loss : 0.09770162105560302 Valid-Accuracy : 0.9968652037617555\n",
            "Epoch - 53 Train-Loss : 7.894745629455358e-09\n",
            "Epoch - 53 Valid-Loss : 0.09923598766326905 Valid-Accuracy : 0.9968652037617555\n",
            "Epoch - 54 Train-Loss : 1.1082730072553559e-08\n",
            "Epoch - 54 Valid-Loss : 0.09803746938705445 Valid-Accuracy : 0.9968652037617555\n",
            "Epoch - 55 Train-Loss : 4.80558150994792e-08\n",
            "Epoch - 55 Valid-Loss : 0.10010485649108887 Valid-Accuracy : 0.9968652037617555\n",
            "Epoch - 56 Train-Loss : 2.966825151606844e-07\n",
            "Epoch - 56 Valid-Loss : 0.09523956775665283 Valid-Accuracy : 0.9968652037617555\n",
            "Epoch - 57 Train-Loss : 1.5574564610210118e-08\n",
            "Epoch - 57 Valid-Loss : 0.09535845518112182 Valid-Accuracy : 0.9968652037617555\n",
            "Epoch - 58 Train-Loss : 7.704098340943766e-08\n",
            "Epoch - 58 Valid-Loss : 0.10289093255996704 Valid-Accuracy : 0.9968652037617555\n",
            "Epoch - 59 Train-Loss : 1.512365901790158e-07\n",
            "Epoch - 59 Valid-Loss : 0.09368548393249512 Valid-Accuracy : 0.9968652037617555\n",
            "Changed learning rate to 2e-08\n",
            "Epoch - 60 Train-Loss : 3.6880091319746457e-08\n",
            "Epoch - 60 Valid-Loss : 0.10560526847839355 Valid-Accuracy : 0.9968652037617555\n",
            "\n"
          ],
          "name": "stdout"
        }
      ]
    }
  ]
}