{
  "nbformat": 4,
  "nbformat_minor": 0,
  "metadata": {
    "accelerator": "GPU",
    "colab": {
      "name": "OrganStopClassifier.ipynb",
      "provenance": [],
      "collapsed_sections": [],
      "authorship_tag": "ABX9TyOT1hwQ88e862h+c8jy4F+v",
      "include_colab_link": true
    },
    "kernelspec": {
      "display_name": "Python 3",
      "name": "python3"
    },
    "widgets": {
      "application/vnd.jupyter.widget-state+json": {
        "92dc94c713e2439593e3bc2a8f659b2a": {
          "model_module": "@jupyter-widgets/controls",
          "model_name": "HBoxModel",
          "state": {
            "_view_name": "HBoxView",
            "_dom_classes": [],
            "_model_name": "HBoxModel",
            "_view_module": "@jupyter-widgets/controls",
            "_model_module_version": "1.5.0",
            "_view_count": null,
            "_view_module_version": "1.5.0",
            "box_style": "",
            "layout": "IPY_MODEL_99a62e9bef5f4adca831a1fb3495afdd",
            "_model_module": "@jupyter-widgets/controls",
            "children": [
              "IPY_MODEL_a40a972b69a5425688ee536175f4d67f",
              "IPY_MODEL_64c92dbe7cc541a2a166b5bd764a0d66"
            ]
          }
        },
        "99a62e9bef5f4adca831a1fb3495afdd": {
          "model_module": "@jupyter-widgets/base",
          "model_name": "LayoutModel",
          "state": {
            "_view_name": "LayoutView",
            "grid_template_rows": null,
            "right": null,
            "justify_content": null,
            "_view_module": "@jupyter-widgets/base",
            "overflow": null,
            "_model_module_version": "1.2.0",
            "_view_count": null,
            "flex_flow": null,
            "width": null,
            "min_width": null,
            "border": null,
            "align_items": null,
            "bottom": null,
            "_model_module": "@jupyter-widgets/base",
            "top": null,
            "grid_column": null,
            "overflow_y": null,
            "overflow_x": null,
            "grid_auto_flow": null,
            "grid_area": null,
            "grid_template_columns": null,
            "flex": null,
            "_model_name": "LayoutModel",
            "justify_items": null,
            "grid_row": null,
            "max_height": null,
            "align_content": null,
            "visibility": null,
            "align_self": null,
            "height": null,
            "min_height": null,
            "padding": null,
            "grid_auto_rows": null,
            "grid_gap": null,
            "max_width": null,
            "order": null,
            "_view_module_version": "1.2.0",
            "grid_template_areas": null,
            "object_position": null,
            "object_fit": null,
            "grid_auto_columns": null,
            "margin": null,
            "display": null,
            "left": null
          }
        },
        "a40a972b69a5425688ee536175f4d67f": {
          "model_module": "@jupyter-widgets/controls",
          "model_name": "FloatProgressModel",
          "state": {
            "_view_name": "ProgressView",
            "style": "IPY_MODEL_03bd035ac3124dca8d25352056c50894",
            "_dom_classes": [],
            "description": "100%",
            "_model_name": "FloatProgressModel",
            "bar_style": "success",
            "max": 2179,
            "_view_module": "@jupyter-widgets/controls",
            "_model_module_version": "1.5.0",
            "value": 2179,
            "_view_count": null,
            "_view_module_version": "1.5.0",
            "orientation": "horizontal",
            "min": 0,
            "description_tooltip": null,
            "_model_module": "@jupyter-widgets/controls",
            "layout": "IPY_MODEL_66789688ef65414ea392cf9409f3af70"
          }
        },
        "64c92dbe7cc541a2a166b5bd764a0d66": {
          "model_module": "@jupyter-widgets/controls",
          "model_name": "HTMLModel",
          "state": {
            "_view_name": "HTMLView",
            "style": "IPY_MODEL_59d81795bb8743128fc11a4517bf52af",
            "_dom_classes": [],
            "description": "",
            "_model_name": "HTMLModel",
            "placeholder": "​",
            "_view_module": "@jupyter-widgets/controls",
            "_model_module_version": "1.5.0",
            "value": " 2179/2179 [04:01&lt;00:00,  9.04it/s]",
            "_view_count": null,
            "_view_module_version": "1.5.0",
            "description_tooltip": null,
            "_model_module": "@jupyter-widgets/controls",
            "layout": "IPY_MODEL_c3570f20181840e5921cee2719803116"
          }
        },
        "03bd035ac3124dca8d25352056c50894": {
          "model_module": "@jupyter-widgets/controls",
          "model_name": "ProgressStyleModel",
          "state": {
            "_view_name": "StyleView",
            "_model_name": "ProgressStyleModel",
            "description_width": "initial",
            "_view_module": "@jupyter-widgets/base",
            "_model_module_version": "1.5.0",
            "_view_count": null,
            "_view_module_version": "1.2.0",
            "bar_color": null,
            "_model_module": "@jupyter-widgets/controls"
          }
        },
        "66789688ef65414ea392cf9409f3af70": {
          "model_module": "@jupyter-widgets/base",
          "model_name": "LayoutModel",
          "state": {
            "_view_name": "LayoutView",
            "grid_template_rows": null,
            "right": null,
            "justify_content": null,
            "_view_module": "@jupyter-widgets/base",
            "overflow": null,
            "_model_module_version": "1.2.0",
            "_view_count": null,
            "flex_flow": null,
            "width": null,
            "min_width": null,
            "border": null,
            "align_items": null,
            "bottom": null,
            "_model_module": "@jupyter-widgets/base",
            "top": null,
            "grid_column": null,
            "overflow_y": null,
            "overflow_x": null,
            "grid_auto_flow": null,
            "grid_area": null,
            "grid_template_columns": null,
            "flex": null,
            "_model_name": "LayoutModel",
            "justify_items": null,
            "grid_row": null,
            "max_height": null,
            "align_content": null,
            "visibility": null,
            "align_self": null,
            "height": null,
            "min_height": null,
            "padding": null,
            "grid_auto_rows": null,
            "grid_gap": null,
            "max_width": null,
            "order": null,
            "_view_module_version": "1.2.0",
            "grid_template_areas": null,
            "object_position": null,
            "object_fit": null,
            "grid_auto_columns": null,
            "margin": null,
            "display": null,
            "left": null
          }
        },
        "59d81795bb8743128fc11a4517bf52af": {
          "model_module": "@jupyter-widgets/controls",
          "model_name": "DescriptionStyleModel",
          "state": {
            "_view_name": "StyleView",
            "_model_name": "DescriptionStyleModel",
            "description_width": "",
            "_view_module": "@jupyter-widgets/base",
            "_model_module_version": "1.5.0",
            "_view_count": null,
            "_view_module_version": "1.2.0",
            "_model_module": "@jupyter-widgets/controls"
          }
        },
        "c3570f20181840e5921cee2719803116": {
          "model_module": "@jupyter-widgets/base",
          "model_name": "LayoutModel",
          "state": {
            "_view_name": "LayoutView",
            "grid_template_rows": null,
            "right": null,
            "justify_content": null,
            "_view_module": "@jupyter-widgets/base",
            "overflow": null,
            "_model_module_version": "1.2.0",
            "_view_count": null,
            "flex_flow": null,
            "width": null,
            "min_width": null,
            "border": null,
            "align_items": null,
            "bottom": null,
            "_model_module": "@jupyter-widgets/base",
            "top": null,
            "grid_column": null,
            "overflow_y": null,
            "overflow_x": null,
            "grid_auto_flow": null,
            "grid_area": null,
            "grid_template_columns": null,
            "flex": null,
            "_model_name": "LayoutModel",
            "justify_items": null,
            "grid_row": null,
            "max_height": null,
            "align_content": null,
            "visibility": null,
            "align_self": null,
            "height": null,
            "min_height": null,
            "padding": null,
            "grid_auto_rows": null,
            "grid_gap": null,
            "max_width": null,
            "order": null,
            "_view_module_version": "1.2.0",
            "grid_template_areas": null,
            "object_position": null,
            "object_fit": null,
            "grid_auto_columns": null,
            "margin": null,
            "display": null,
            "left": null
          }
        },
        "576dfb50d04d47b391dfef1e4d2b5738": {
          "model_module": "@jupyter-widgets/controls",
          "model_name": "HBoxModel",
          "state": {
            "_view_name": "HBoxView",
            "_dom_classes": [],
            "_model_name": "HBoxModel",
            "_view_module": "@jupyter-widgets/controls",
            "_model_module_version": "1.5.0",
            "_view_count": null,
            "_view_module_version": "1.5.0",
            "box_style": "",
            "layout": "IPY_MODEL_854e52d4b4fa4a1c8e154455ae009975",
            "_model_module": "@jupyter-widgets/controls",
            "children": [
              "IPY_MODEL_39a53a84e3514b33a87c58bfecaddca9",
              "IPY_MODEL_8ec77dbb9072401a86a81ac02c4148f3"
            ]
          }
        },
        "854e52d4b4fa4a1c8e154455ae009975": {
          "model_module": "@jupyter-widgets/base",
          "model_name": "LayoutModel",
          "state": {
            "_view_name": "LayoutView",
            "grid_template_rows": null,
            "right": null,
            "justify_content": null,
            "_view_module": "@jupyter-widgets/base",
            "overflow": null,
            "_model_module_version": "1.2.0",
            "_view_count": null,
            "flex_flow": null,
            "width": null,
            "min_width": null,
            "border": null,
            "align_items": null,
            "bottom": null,
            "_model_module": "@jupyter-widgets/base",
            "top": null,
            "grid_column": null,
            "overflow_y": null,
            "overflow_x": null,
            "grid_auto_flow": null,
            "grid_area": null,
            "grid_template_columns": null,
            "flex": null,
            "_model_name": "LayoutModel",
            "justify_items": null,
            "grid_row": null,
            "max_height": null,
            "align_content": null,
            "visibility": null,
            "align_self": null,
            "height": null,
            "min_height": null,
            "padding": null,
            "grid_auto_rows": null,
            "grid_gap": null,
            "max_width": null,
            "order": null,
            "_view_module_version": "1.2.0",
            "grid_template_areas": null,
            "object_position": null,
            "object_fit": null,
            "grid_auto_columns": null,
            "margin": null,
            "display": null,
            "left": null
          }
        },
        "39a53a84e3514b33a87c58bfecaddca9": {
          "model_module": "@jupyter-widgets/controls",
          "model_name": "FloatProgressModel",
          "state": {
            "_view_name": "ProgressView",
            "style": "IPY_MODEL_6252406f8bf14d5a9b0e0352811e814d",
            "_dom_classes": [],
            "description": "100%",
            "_model_name": "FloatProgressModel",
            "bar_style": "success",
            "max": 544,
            "_view_module": "@jupyter-widgets/controls",
            "_model_module_version": "1.5.0",
            "value": 544,
            "_view_count": null,
            "_view_module_version": "1.5.0",
            "orientation": "horizontal",
            "min": 0,
            "description_tooltip": null,
            "_model_module": "@jupyter-widgets/controls",
            "layout": "IPY_MODEL_541f9f7e76b14ea6b7833a4e2476bce1"
          }
        },
        "8ec77dbb9072401a86a81ac02c4148f3": {
          "model_module": "@jupyter-widgets/controls",
          "model_name": "HTMLModel",
          "state": {
            "_view_name": "HTMLView",
            "style": "IPY_MODEL_1df8435fd5104a7e9e419acedfe38859",
            "_dom_classes": [],
            "description": "",
            "_model_name": "HTMLModel",
            "placeholder": "​",
            "_view_module": "@jupyter-widgets/controls",
            "_model_module_version": "1.5.0",
            "value": " 544/544 [01:00&lt;00:00,  8.98it/s]",
            "_view_count": null,
            "_view_module_version": "1.5.0",
            "description_tooltip": null,
            "_model_module": "@jupyter-widgets/controls",
            "layout": "IPY_MODEL_ce2a4f210ef14d8b84943314f4508378"
          }
        },
        "6252406f8bf14d5a9b0e0352811e814d": {
          "model_module": "@jupyter-widgets/controls",
          "model_name": "ProgressStyleModel",
          "state": {
            "_view_name": "StyleView",
            "_model_name": "ProgressStyleModel",
            "description_width": "initial",
            "_view_module": "@jupyter-widgets/base",
            "_model_module_version": "1.5.0",
            "_view_count": null,
            "_view_module_version": "1.2.0",
            "bar_color": null,
            "_model_module": "@jupyter-widgets/controls"
          }
        },
        "541f9f7e76b14ea6b7833a4e2476bce1": {
          "model_module": "@jupyter-widgets/base",
          "model_name": "LayoutModel",
          "state": {
            "_view_name": "LayoutView",
            "grid_template_rows": null,
            "right": null,
            "justify_content": null,
            "_view_module": "@jupyter-widgets/base",
            "overflow": null,
            "_model_module_version": "1.2.0",
            "_view_count": null,
            "flex_flow": null,
            "width": null,
            "min_width": null,
            "border": null,
            "align_items": null,
            "bottom": null,
            "_model_module": "@jupyter-widgets/base",
            "top": null,
            "grid_column": null,
            "overflow_y": null,
            "overflow_x": null,
            "grid_auto_flow": null,
            "grid_area": null,
            "grid_template_columns": null,
            "flex": null,
            "_model_name": "LayoutModel",
            "justify_items": null,
            "grid_row": null,
            "max_height": null,
            "align_content": null,
            "visibility": null,
            "align_self": null,
            "height": null,
            "min_height": null,
            "padding": null,
            "grid_auto_rows": null,
            "grid_gap": null,
            "max_width": null,
            "order": null,
            "_view_module_version": "1.2.0",
            "grid_template_areas": null,
            "object_position": null,
            "object_fit": null,
            "grid_auto_columns": null,
            "margin": null,
            "display": null,
            "left": null
          }
        },
        "1df8435fd5104a7e9e419acedfe38859": {
          "model_module": "@jupyter-widgets/controls",
          "model_name": "DescriptionStyleModel",
          "state": {
            "_view_name": "StyleView",
            "_model_name": "DescriptionStyleModel",
            "description_width": "",
            "_view_module": "@jupyter-widgets/base",
            "_model_module_version": "1.5.0",
            "_view_count": null,
            "_view_module_version": "1.2.0",
            "_model_module": "@jupyter-widgets/controls"
          }
        },
        "ce2a4f210ef14d8b84943314f4508378": {
          "model_module": "@jupyter-widgets/base",
          "model_name": "LayoutModel",
          "state": {
            "_view_name": "LayoutView",
            "grid_template_rows": null,
            "right": null,
            "justify_content": null,
            "_view_module": "@jupyter-widgets/base",
            "overflow": null,
            "_model_module_version": "1.2.0",
            "_view_count": null,
            "flex_flow": null,
            "width": null,
            "min_width": null,
            "border": null,
            "align_items": null,
            "bottom": null,
            "_model_module": "@jupyter-widgets/base",
            "top": null,
            "grid_column": null,
            "overflow_y": null,
            "overflow_x": null,
            "grid_auto_flow": null,
            "grid_area": null,
            "grid_template_columns": null,
            "flex": null,
            "_model_name": "LayoutModel",
            "justify_items": null,
            "grid_row": null,
            "max_height": null,
            "align_content": null,
            "visibility": null,
            "align_self": null,
            "height": null,
            "min_height": null,
            "padding": null,
            "grid_auto_rows": null,
            "grid_gap": null,
            "max_width": null,
            "order": null,
            "_view_module_version": "1.2.0",
            "grid_template_areas": null,
            "object_position": null,
            "object_fit": null,
            "grid_auto_columns": null,
            "margin": null,
            "display": null,
            "left": null
          }
        },
        "9a8180c3d35847ef9b5cfc7a2ef22464": {
          "model_module": "@jupyter-widgets/controls",
          "model_name": "HBoxModel",
          "state": {
            "_view_name": "HBoxView",
            "_dom_classes": [],
            "_model_name": "HBoxModel",
            "_view_module": "@jupyter-widgets/controls",
            "_model_module_version": "1.5.0",
            "_view_count": null,
            "_view_module_version": "1.5.0",
            "box_style": "",
            "layout": "IPY_MODEL_accfb668f752480f99f7c6ae3a46b8d0",
            "_model_module": "@jupyter-widgets/controls",
            "children": [
              "IPY_MODEL_537287393cf44281b314b5b740996778",
              "IPY_MODEL_3a3abcd2f54946d9a2440aea1fd97aff"
            ]
          }
        },
        "accfb668f752480f99f7c6ae3a46b8d0": {
          "model_module": "@jupyter-widgets/base",
          "model_name": "LayoutModel",
          "state": {
            "_view_name": "LayoutView",
            "grid_template_rows": null,
            "right": null,
            "justify_content": null,
            "_view_module": "@jupyter-widgets/base",
            "overflow": null,
            "_model_module_version": "1.2.0",
            "_view_count": null,
            "flex_flow": null,
            "width": null,
            "min_width": null,
            "border": null,
            "align_items": null,
            "bottom": null,
            "_model_module": "@jupyter-widgets/base",
            "top": null,
            "grid_column": null,
            "overflow_y": null,
            "overflow_x": null,
            "grid_auto_flow": null,
            "grid_area": null,
            "grid_template_columns": null,
            "flex": null,
            "_model_name": "LayoutModel",
            "justify_items": null,
            "grid_row": null,
            "max_height": null,
            "align_content": null,
            "visibility": null,
            "align_self": null,
            "height": null,
            "min_height": null,
            "padding": null,
            "grid_auto_rows": null,
            "grid_gap": null,
            "max_width": null,
            "order": null,
            "_view_module_version": "1.2.0",
            "grid_template_areas": null,
            "object_position": null,
            "object_fit": null,
            "grid_auto_columns": null,
            "margin": null,
            "display": null,
            "left": null
          }
        },
        "537287393cf44281b314b5b740996778": {
          "model_module": "@jupyter-widgets/controls",
          "model_name": "FloatProgressModel",
          "state": {
            "_view_name": "ProgressView",
            "style": "IPY_MODEL_1cf87d4d2c18488c95db0ba35ecacdb5",
            "_dom_classes": [],
            "description": "100%",
            "_model_name": "FloatProgressModel",
            "bar_style": "success",
            "max": 60,
            "_view_module": "@jupyter-widgets/controls",
            "_model_module_version": "1.5.0",
            "value": 60,
            "_view_count": null,
            "_view_module_version": "1.5.0",
            "orientation": "horizontal",
            "min": 0,
            "description_tooltip": null,
            "_model_module": "@jupyter-widgets/controls",
            "layout": "IPY_MODEL_7fcb1766996a497396b894d533b7d838"
          }
        },
        "3a3abcd2f54946d9a2440aea1fd97aff": {
          "model_module": "@jupyter-widgets/controls",
          "model_name": "HTMLModel",
          "state": {
            "_view_name": "HTMLView",
            "style": "IPY_MODEL_ddf00de2b25e400bb7ad8f903ecbbcc6",
            "_dom_classes": [],
            "description": "",
            "_model_name": "HTMLModel",
            "placeholder": "​",
            "_view_module": "@jupyter-widgets/controls",
            "_model_module_version": "1.5.0",
            "value": " 60/60 [04:44&lt;00:00,  4.73s/it]",
            "_view_count": null,
            "_view_module_version": "1.5.0",
            "description_tooltip": null,
            "_model_module": "@jupyter-widgets/controls",
            "layout": "IPY_MODEL_d38757848a3546ceaf9fb83bb18149b1"
          }
        },
        "1cf87d4d2c18488c95db0ba35ecacdb5": {
          "model_module": "@jupyter-widgets/controls",
          "model_name": "ProgressStyleModel",
          "state": {
            "_view_name": "StyleView",
            "_model_name": "ProgressStyleModel",
            "description_width": "initial",
            "_view_module": "@jupyter-widgets/base",
            "_model_module_version": "1.5.0",
            "_view_count": null,
            "_view_module_version": "1.2.0",
            "bar_color": null,
            "_model_module": "@jupyter-widgets/controls"
          }
        },
        "7fcb1766996a497396b894d533b7d838": {
          "model_module": "@jupyter-widgets/base",
          "model_name": "LayoutModel",
          "state": {
            "_view_name": "LayoutView",
            "grid_template_rows": null,
            "right": null,
            "justify_content": null,
            "_view_module": "@jupyter-widgets/base",
            "overflow": null,
            "_model_module_version": "1.2.0",
            "_view_count": null,
            "flex_flow": null,
            "width": null,
            "min_width": null,
            "border": null,
            "align_items": null,
            "bottom": null,
            "_model_module": "@jupyter-widgets/base",
            "top": null,
            "grid_column": null,
            "overflow_y": null,
            "overflow_x": null,
            "grid_auto_flow": null,
            "grid_area": null,
            "grid_template_columns": null,
            "flex": null,
            "_model_name": "LayoutModel",
            "justify_items": null,
            "grid_row": null,
            "max_height": null,
            "align_content": null,
            "visibility": null,
            "align_self": null,
            "height": null,
            "min_height": null,
            "padding": null,
            "grid_auto_rows": null,
            "grid_gap": null,
            "max_width": null,
            "order": null,
            "_view_module_version": "1.2.0",
            "grid_template_areas": null,
            "object_position": null,
            "object_fit": null,
            "grid_auto_columns": null,
            "margin": null,
            "display": null,
            "left": null
          }
        },
        "ddf00de2b25e400bb7ad8f903ecbbcc6": {
          "model_module": "@jupyter-widgets/controls",
          "model_name": "DescriptionStyleModel",
          "state": {
            "_view_name": "StyleView",
            "_model_name": "DescriptionStyleModel",
            "description_width": "",
            "_view_module": "@jupyter-widgets/base",
            "_model_module_version": "1.5.0",
            "_view_count": null,
            "_view_module_version": "1.2.0",
            "_model_module": "@jupyter-widgets/controls"
          }
        },
        "d38757848a3546ceaf9fb83bb18149b1": {
          "model_module": "@jupyter-widgets/base",
          "model_name": "LayoutModel",
          "state": {
            "_view_name": "LayoutView",
            "grid_template_rows": null,
            "right": null,
            "justify_content": null,
            "_view_module": "@jupyter-widgets/base",
            "overflow": null,
            "_model_module_version": "1.2.0",
            "_view_count": null,
            "flex_flow": null,
            "width": null,
            "min_width": null,
            "border": null,
            "align_items": null,
            "bottom": null,
            "_model_module": "@jupyter-widgets/base",
            "top": null,
            "grid_column": null,
            "overflow_y": null,
            "overflow_x": null,
            "grid_auto_flow": null,
            "grid_area": null,
            "grid_template_columns": null,
            "flex": null,
            "_model_name": "LayoutModel",
            "justify_items": null,
            "grid_row": null,
            "max_height": null,
            "align_content": null,
            "visibility": null,
            "align_self": null,
            "height": null,
            "min_height": null,
            "padding": null,
            "grid_auto_rows": null,
            "grid_gap": null,
            "max_width": null,
            "order": null,
            "_view_module_version": "1.2.0",
            "grid_template_areas": null,
            "object_position": null,
            "object_fit": null,
            "grid_auto_columns": null,
            "margin": null,
            "display": null,
            "left": null
          }
        }
      }
    }
  },
  "cells": [
    {
      "cell_type": "markdown",
      "metadata": {
        "id": "view-in-github",
        "colab_type": "text"
      },
      "source": [
        "<a href=\"https://colab.research.google.com/github/markwreinke/OrganStopClassifier/blob/main/OrganStopClassifier.ipynb\" target=\"_parent\"><img src=\"https://colab.research.google.com/assets/colab-badge.svg\" alt=\"Open In Colab\"/></a>"
      ]
    },
    {
      "cell_type": "markdown",
      "metadata": {
        "id": "ZV0771-ydLFm"
      },
      "source": [
        "This is the actual organ stop classifier program."
      ]
    },
    {
      "cell_type": "code",
      "metadata": {
        "id": "607PkKdZZc0y"
      },
      "source": [
        "# Start with the imports\n",
        "import pandas as pd\n",
        "import librosa\n",
        "import numpy as np\n",
        "import matplotlib.pyplot as plt\n",
        "import librosa.display\n",
        "import torch\n",
        "import torch.nn as nn\n",
        "import torch.nn.functional as F\n",
        "import torch.optim as optim\n",
        "from torch.utils.data import Dataset, DataLoader\n",
        "from tqdm import tqdm_notebook as tqdm\n",
        "import os\n",
        "import pickle\n",
        "import IPython"
      ],
      "execution_count": 1,
      "outputs": []
    },
    {
      "cell_type": "code",
      "metadata": {
        "colab": {
          "base_uri": "https://localhost:8080/"
        },
        "id": "PpjhbLBwdTfE",
        "outputId": "fb58e0db-2c15-47a0-9605-547831e7a006"
      },
      "source": [
        "# Mount GoogleDrive, cd and confirm current directory\n",
        "from google.colab import drive\n",
        "drive.mount(\"/content/drive\")\n",
        "\n",
        "dir = \"/content/drive/My Drive/OrganStopDataset\"\n",
        "print(os.getcwd())\n",
        "\n",
        "if(os.getcwd() != dir):\n",
        "  os.chdir(dir)\n",
        "\n",
        "print(os.getcwd())"
      ],
      "execution_count": 2,
      "outputs": [
        {
          "output_type": "stream",
          "text": [
            "Drive already mounted at /content/drive; to attempt to forcibly remount, call drive.mount(\"/content/drive\", force_remount=True).\n",
            "/content\n",
            "/content/drive/My Drive/OrganStopDataset\n"
          ],
          "name": "stdout"
        }
      ]
    },
    {
      "cell_type": "code",
      "metadata": {
        "id": "D52yGazBfHa1"
      },
      "source": [
        "# Here we are reading a comma separated values (CSV) file using pandas into the \n",
        "# variable df. df is type a 2D data structure with labeled axes, \n",
        "# as a DataFrame or TextParser\n",
        "df = pd.read_csv('organstopClassifierDirectory.csv')"
      ],
      "execution_count": 3,
      "outputs": []
    },
    {
      "cell_type": "code",
      "metadata": {
        "colab": {
          "base_uri": "https://localhost:8080/",
          "height": 340
        },
        "id": "gyDDidxVgnx1",
        "outputId": "9f1ce525-a358-4851-8d1e-b13ee2b462f6"
      },
      "source": [
        "# Return the first n rows of the DataFrame. n defaults to 5 with no args\n",
        "df.head(10)"
      ],
      "execution_count": 4,
      "outputs": [
        {
          "output_type": "execute_result",
          "data": {
            "text/html": [
              "<div>\n",
              "<style scoped>\n",
              "    .dataframe tbody tr th:only-of-type {\n",
              "        vertical-align: middle;\n",
              "    }\n",
              "\n",
              "    .dataframe tbody tr th {\n",
              "        vertical-align: top;\n",
              "    }\n",
              "\n",
              "    .dataframe thead th {\n",
              "        text-align: right;\n",
              "    }\n",
              "</style>\n",
              "<table border=\"1\" class=\"dataframe\">\n",
              "  <thead>\n",
              "    <tr style=\"text-align: right;\">\n",
              "      <th></th>\n",
              "      <th>filename</th>\n",
              "      <th>fold</th>\n",
              "      <th>category_1</th>\n",
              "      <th>category_2</th>\n",
              "    </tr>\n",
              "  </thead>\n",
              "  <tbody>\n",
              "    <tr>\n",
              "      <th>0</th>\n",
              "      <td>Hautbois8AT4051Left AT4051 WinLett.wav</td>\n",
              "      <td>1</td>\n",
              "      <td>Hautbois</td>\n",
              "      <td>AT4051</td>\n",
              "    </tr>\n",
              "    <tr>\n",
              "      <th>1</th>\n",
              "      <td>Hautbois8AT4051Left AT4051 WinLett-1.wav</td>\n",
              "      <td>2</td>\n",
              "      <td>Hautbois</td>\n",
              "      <td>AT4051</td>\n",
              "    </tr>\n",
              "    <tr>\n",
              "      <th>2</th>\n",
              "      <td>Hautbois8AT4051Left AT4051 WinLett-2.wav</td>\n",
              "      <td>3</td>\n",
              "      <td>Hautbois</td>\n",
              "      <td>AT4051</td>\n",
              "    </tr>\n",
              "    <tr>\n",
              "      <th>3</th>\n",
              "      <td>Hautbois8AT4051Left AT4051 WinLett-3.wav</td>\n",
              "      <td>4</td>\n",
              "      <td>Hautbois</td>\n",
              "      <td>AT4051</td>\n",
              "    </tr>\n",
              "    <tr>\n",
              "      <th>4</th>\n",
              "      <td>Hautbois8AT4051Left AT4051 WinLett-4.wav</td>\n",
              "      <td>5</td>\n",
              "      <td>Hautbois</td>\n",
              "      <td>AT4051</td>\n",
              "    </tr>\n",
              "    <tr>\n",
              "      <th>5</th>\n",
              "      <td>Hautbois8AT4051Left AT4051 WinLett-5.wav</td>\n",
              "      <td>1</td>\n",
              "      <td>Hautbois</td>\n",
              "      <td>AT4051</td>\n",
              "    </tr>\n",
              "    <tr>\n",
              "      <th>6</th>\n",
              "      <td>Hautbois8AT4051Left AT4051 WinLett-6.wav</td>\n",
              "      <td>2</td>\n",
              "      <td>Hautbois</td>\n",
              "      <td>AT4051</td>\n",
              "    </tr>\n",
              "    <tr>\n",
              "      <th>7</th>\n",
              "      <td>Hautbois8AT4051Left AT4051 WinLett-7.wav</td>\n",
              "      <td>3</td>\n",
              "      <td>Hautbois</td>\n",
              "      <td>AT4051</td>\n",
              "    </tr>\n",
              "    <tr>\n",
              "      <th>8</th>\n",
              "      <td>Hautbois8AT4051Left AT4051 WinLett-8.wav</td>\n",
              "      <td>4</td>\n",
              "      <td>Hautbois</td>\n",
              "      <td>AT4051</td>\n",
              "    </tr>\n",
              "    <tr>\n",
              "      <th>9</th>\n",
              "      <td>Hautbois8AT4051Left AT4051 WinLett-9.wav</td>\n",
              "      <td>5</td>\n",
              "      <td>Hautbois</td>\n",
              "      <td>AT4051</td>\n",
              "    </tr>\n",
              "  </tbody>\n",
              "</table>\n",
              "</div>"
            ],
            "text/plain": [
              "                                   filename  fold category_1 category_2\n",
              "0    Hautbois8AT4051Left AT4051 WinLett.wav     1   Hautbois     AT4051\n",
              "1  Hautbois8AT4051Left AT4051 WinLett-1.wav     2   Hautbois     AT4051\n",
              "2  Hautbois8AT4051Left AT4051 WinLett-2.wav     3   Hautbois     AT4051\n",
              "3  Hautbois8AT4051Left AT4051 WinLett-3.wav     4   Hautbois     AT4051\n",
              "4  Hautbois8AT4051Left AT4051 WinLett-4.wav     5   Hautbois     AT4051\n",
              "5  Hautbois8AT4051Left AT4051 WinLett-5.wav     1   Hautbois     AT4051\n",
              "6  Hautbois8AT4051Left AT4051 WinLett-6.wav     2   Hautbois     AT4051\n",
              "7  Hautbois8AT4051Left AT4051 WinLett-7.wav     3   Hautbois     AT4051\n",
              "8  Hautbois8AT4051Left AT4051 WinLett-8.wav     4   Hautbois     AT4051\n",
              "9  Hautbois8AT4051Left AT4051 WinLett-9.wav     5   Hautbois     AT4051"
            ]
          },
          "metadata": {
            "tags": []
          },
          "execution_count": 4
        }
      ]
    },
    {
      "cell_type": "code",
      "metadata": {
        "colab": {
          "base_uri": "https://localhost:8080/",
          "height": 36
        },
        "id": "XyF8SG1dDJ0J",
        "outputId": "c02fbc84-d4bc-4899-9ef2-303e332893e8"
      },
      "source": [
        "df.at[0, \"category_1\"]"
      ],
      "execution_count": 5,
      "outputs": [
        {
          "output_type": "execute_result",
          "data": {
            "application/vnd.google.colaboratory.intrinsic+json": {
              "type": "string"
            },
            "text/plain": [
              "'Hautbois'"
            ]
          },
          "metadata": {
            "tags": []
          },
          "execution_count": 5
        }
      ]
    },
    {
      "cell_type": "code",
      "metadata": {
        "id": "P-g2JWsRgpua"
      },
      "source": [
        "# The data was sorted into 5 \"Cross-validation\" folds, in which here, the first\n",
        "# four are used as training data, and the fifth is a validation set\n",
        "# Here's the paper: http://karol.piczak.com/papers/Piczak2015-ESC-Dataset.pdf\n",
        "train = df[df['fold']!=5]\n",
        "valid = df[df['fold']==5]"
      ],
      "execution_count": 6,
      "outputs": []
    },
    {
      "cell_type": "code",
      "metadata": {
        "colab": {
          "base_uri": "https://localhost:8080/"
        },
        "id": "70TMtnVSgtOK",
        "outputId": "0566c0b7-59ff-45fd-9c5d-06daf5e5a8d5"
      },
      "source": [
        "# Load a file with librosa, and display its sampling rate and length\n",
        "wav, sr = librosa.load('SampleDataset/Krummhorn8AT4051Left-Live10 AT4051 Left.wav', sr=None)\n",
        "print(f'Sampling rate of the audio is {sr} and length of the audio is {len(wav)/sr} seconds')"
      ],
      "execution_count": 7,
      "outputs": [
        {
          "output_type": "stream",
          "text": [
            "Sampling rate of the audio is 44100 and length of the audio is 1.0 seconds\n"
          ],
          "name": "stdout"
        }
      ]
    },
    {
      "cell_type": "code",
      "metadata": {
        "id": "WPurTuRRg7GU"
      },
      "source": [
        "# Here we are going to convert a Spectrogram into an image\n",
        "def spec_to_image(spec, eps=1e-6):\n",
        "  mean = spec.mean()\n",
        "  std = spec.std()\n",
        "  spec_norm = (spec - mean) / (std + eps)\n",
        "  spec_min, spec_max = spec_norm.min(), spec_norm.max()\n",
        "  spec_scaled = 255 * (spec_norm - spec_min) / (spec_max - spec_min)\n",
        "  spec_scaled = spec_scaled.astype(np.uint8)\n",
        "  return spec_scaled\n",
        "\n",
        "  # This spectrogram is normalized using z score normalization and \n",
        "  # scaled using min-max scaling so its values lie between 0 and 255"
      ],
      "execution_count": 8,
      "outputs": []
    },
    {
      "cell_type": "code",
      "metadata": {
        "id": "_cMbLtueg8m0"
      },
      "source": [
        "# This function give a mel spectrogram of the given file\n",
        "#  sr=None -> Librosa should use the native sampling rate of 44.1KHz to load the audio data instead of the default of 22.05KHz\n",
        "\n",
        "#  Next if the sample is less than num_sec long, it is padded with refected versions of itself - i.e., if num_sec is 5,and a 1 second clip is sent it, it will be changed to: clip + reversed clip + clip + reversed clip + clip.\n",
        "# If the clip runtime is greater than num_sec, it will be truncated.\n",
        "\n",
        "#  2048 samples are chosen for each window (about 46ms)\n",
        "#  A hop_length of 512 samples is chose, meaning the window is moved by skipping 512 samples to get the next time frame\n",
        "#  The number of mel filters is 128, makes the height of the spectrogram image 128\n",
        "#  fmin and fmax are the lowest and highest frequencies\n",
        "def get_melspectrogram_db(file_path, sr=None, n_fft=2048, hop_length=512, n_mels=128, fmin=20, fmax=8300, top_db=80, num_sec = 1):\n",
        "  wav, sr = librosa.load(file_path, sr=sr)\n",
        "  if wav.shape[0]<num_sec*sr:\n",
        "     wav=np.pad(wav,int(np.ceil((num_sec*sr-wav.shape[0])/2)),mode='reflect')\n",
        "  else:\n",
        "    wav=wav[:num_sec*sr]\n",
        "\n",
        "  spec=librosa.feature.melspectrogram(wav, sr=sr, n_fft=n_fft, hop_length=hop_length, n_mels=n_mels, fmin=fmin, fmax=fmax)\n",
        "\n",
        "  #Librosa squares the magnitude of the spectrogram when constructing Mel Spectrogram, so we use power_to_db to convert power magnitude to decipels. top_db is used to threshold the output.\n",
        "  spec_db=librosa.power_to_db(spec, top_db=top_db)\n",
        "  return spec_db"
      ],
      "execution_count": 9,
      "outputs": []
    },
    {
      "cell_type": "code",
      "metadata": {
        "colab": {
          "base_uri": "https://localhost:8080/"
        },
        "id": "5gVcT3IKN0K8",
        "outputId": "006894ae-a2d5-4912-f20f-db7d4e9b499a"
      },
      "source": [
        "print(type(sorted(df[\"category_1\"].unique())))"
      ],
      "execution_count": 10,
      "outputs": [
        {
          "output_type": "stream",
          "text": [
            "<class 'list'>\n"
          ],
          "name": "stdout"
        }
      ]
    },
    {
      "cell_type": "code",
      "metadata": {
        "id": "6_-2EL_8hAC_"
      },
      "source": [
        "# This is us loading data into pytorch by building dataloaders to\n",
        "# preprocess and load data.\n",
        "# I augmented it by getting it to save the filename as well\n",
        "\n",
        "# Where Torch Dataloaders support Map-Style and Iterable-Style datasets, this one is a Map-style dataset as it implements __getitem__() and __len__() protocals, and s represents a mapp from indeices/keys to data samples.\n",
        "\n",
        "\n",
        "class OrganStopSamples(Dataset):\n",
        "  def __init__(self, base, df, in_col, out_col):\n",
        "    self.df = df\n",
        "    self.data = []\n",
        "    self.labels = []\n",
        "    self.filenames = []\n",
        "    self.c2i = {} # This is a dictionary that maps Category:index\n",
        "    self.i2c = {} # This is a dicitonary that maps index: category\n",
        "    self.categories = sorted(df[out_col].unique())\n",
        "    for i, category in enumerate(self.categories):\n",
        "      self.c2i[category] = i\n",
        "      self.i2c[i] = category\n",
        "    for ind in tqdm(range(len(df))):\n",
        "      row = df.iloc[ind]\n",
        "      file_path = os.path.join(base, row[in_col])\n",
        "      # print(\"base: \", base, \"\\nin_col: \", in_col, \"\\nrow[in_col]: \", row[in_col], \"\\nfile_path:\", file_path)\n",
        "      self.data.append(spec_to_image(get_melspectrogram_db(file_path))[np.newaxis,...]) # This takes the mel_spectrogram of the current file and appends it to the data list, also adds a new dimension to the front of the data\n",
        "      self.labels.append(self.c2i[row['category_1']]) # This is the sister list of the data list, in which it maps the category to the data of the corresponding index of the data list.\n",
        "      self.filenames.append(file_path) #Sace the filename\n",
        "\n",
        "  def __len__(self):\n",
        "     return len(self.data)\n",
        "  def __getitem__(self, idx):\n",
        "    return self.data[idx], self.labels[idx]\n",
        "  def __getFileName__(self, idx):\n",
        "    return self.filenames[idx]\n"
      ],
      "execution_count": 11,
      "outputs": []
    },
    {
      "cell_type": "code",
      "metadata": {
        "colab": {
          "base_uri": "https://localhost:8080/",
          "height": 188,
          "referenced_widgets": [
            "92dc94c713e2439593e3bc2a8f659b2a",
            "99a62e9bef5f4adca831a1fb3495afdd",
            "a40a972b69a5425688ee536175f4d67f",
            "64c92dbe7cc541a2a166b5bd764a0d66",
            "03bd035ac3124dca8d25352056c50894",
            "66789688ef65414ea392cf9409f3af70",
            "59d81795bb8743128fc11a4517bf52af",
            "c3570f20181840e5921cee2719803116",
            "576dfb50d04d47b391dfef1e4d2b5738",
            "854e52d4b4fa4a1c8e154455ae009975",
            "39a53a84e3514b33a87c58bfecaddca9",
            "8ec77dbb9072401a86a81ac02c4148f3",
            "6252406f8bf14d5a9b0e0352811e814d",
            "541f9f7e76b14ea6b7833a4e2476bce1",
            "1df8435fd5104a7e9e419acedfe38859",
            "ce2a4f210ef14d8b84943314f4508378"
          ]
        },
        "id": "xoDj7islNs_4",
        "outputId": "df3b494b-af62-4c8e-e1cc-8237a28ee124"
      },
      "source": [
        "# Load up the training data\n",
        "train_data = OrganStopSamples('SampleDataset', train, 'filename', 'category_1')\n",
        "valid_data = OrganStopSamples('SampleDataset', valid, 'filename', 'category_1')\n",
        "\n",
        "\n",
        "train_loader = DataLoader(train_data, batch_size = 16, shuffle = True, pin_memory=True)\n",
        "valid_loader = DataLoader(valid_data, batch_size = 16, shuffle = True, pin_memory=True)"
      ],
      "execution_count": 12,
      "outputs": [
        {
          "output_type": "stream",
          "text": [
            "/usr/local/lib/python3.6/dist-packages/ipykernel_launcher.py:20: TqdmDeprecationWarning: This function will be removed in tqdm==5.0.0\n",
            "Please use `tqdm.notebook.tqdm` instead of `tqdm.tqdm_notebook`\n"
          ],
          "name": "stderr"
        },
        {
          "output_type": "display_data",
          "data": {
            "application/vnd.jupyter.widget-view+json": {
              "model_id": "92dc94c713e2439593e3bc2a8f659b2a",
              "version_minor": 0,
              "version_major": 2
            },
            "text/plain": [
              "HBox(children=(FloatProgress(value=0.0, max=2179.0), HTML(value='')))"
            ]
          },
          "metadata": {
            "tags": []
          }
        },
        {
          "output_type": "stream",
          "text": [
            "\n"
          ],
          "name": "stdout"
        },
        {
          "output_type": "stream",
          "text": [
            "/usr/local/lib/python3.6/dist-packages/ipykernel_launcher.py:20: TqdmDeprecationWarning: This function will be removed in tqdm==5.0.0\n",
            "Please use `tqdm.notebook.tqdm` instead of `tqdm.tqdm_notebook`\n"
          ],
          "name": "stderr"
        },
        {
          "output_type": "display_data",
          "data": {
            "application/vnd.jupyter.widget-view+json": {
              "model_id": "576dfb50d04d47b391dfef1e4d2b5738",
              "version_minor": 0,
              "version_major": 2
            },
            "text/plain": [
              "HBox(children=(FloatProgress(value=0.0, max=544.0), HTML(value='')))"
            ]
          },
          "metadata": {
            "tags": []
          }
        },
        {
          "output_type": "stream",
          "text": [
            "\n"
          ],
          "name": "stdout"
        }
      ]
    },
    {
      "cell_type": "code",
      "metadata": {
        "colab": {
          "base_uri": "https://localhost:8080/",
          "height": 519
        },
        "id": "baVX4AQgo-S3",
        "outputId": "a0ba9d8d-b54f-482d-f65a-b5113e663a46"
      },
      "source": [
        "print(train_data.c2i)\n",
        "print(train_data.i2c)\n",
        "print(len(train_data.labels))\n",
        "print(type(train_data.labels))\n",
        "\n",
        "print(\"test:\")\n",
        "print(len(train_data.__getitem__(0)[0][0][0]))\n",
        "\n",
        "print(train_data.__getitem__(3))\n",
        "print(type(train_data.__getitem__(0)[0]))\n",
        "#librosa.display.specshow(train_data.__getitem__(0)[0][0])\n",
        "librosa.display.specshow(train_data.__getitem__(3)[0][0])"
      ],
      "execution_count": 13,
      "outputs": [
        {
          "output_type": "stream",
          "text": [
            "{'Hautbois': 0, 'Krummhorn8': 1, 'Principal8': 2, 'Trumpette8': 3}\n",
            "{0: 'Hautbois', 1: 'Krummhorn8', 2: 'Principal8', 3: 'Trumpette8'}\n",
            "2179\n",
            "<class 'list'>\n",
            "test:\n",
            "87\n",
            "(array([[[181, 172, 157, ..., 149, 161, 135],\n",
            "        [192, 173, 131, ..., 144, 148, 133],\n",
            "        [190, 163, 150, ..., 161, 140, 118],\n",
            "        ...,\n",
            "        [ 23,  16,  26, ...,  18,  14,  31],\n",
            "        [ 36,  28,  20, ...,  20,  20,  20],\n",
            "        [ 24,  27,  22, ...,  20,  20,   9]]], dtype=uint8), 0)\n",
            "<class 'numpy.ndarray'>\n"
          ],
          "name": "stdout"
        },
        {
          "output_type": "execute_result",
          "data": {
            "text/plain": [
              "<matplotlib.axes._subplots.AxesSubplot at 0x7f88a2f32198>"
            ]
          },
          "metadata": {
            "tags": []
          },
          "execution_count": 13
        },
        {
          "output_type": "display_data",
          "data": {
            "image/png": "[encoded data removed]",
            "text/plain": [
              "<Figure size 432x288 with 1 Axes>"
            ]
          },
          "metadata": {
            "tags": []
          }
        }
      ]
    },
    {
      "cell_type": "code",
      "metadata": {
        "id": "aUjUfMb5k15v"
      },
      "source": [
        "# This is its own model, not the resnet34\n",
        "class OrganStopModel(nn.Module):\n",
        "  def __init__(self, input_shape, batch_size=16, num_cats=4):\n",
        "    super().__init__()\n",
        "    self.conv1 = nn.Conv2d(1, 32, kernel_size = 3, stride=1, padding=1)\n",
        "    self.bn1 = nn.BatchNorm2d(32)\n",
        "    self.conv2 = nn.Conv2d(32, 32, kernel_size = 3, stride=1, padding=1)\n",
        "    self.bn2 = nn.BatchNorm2d(32)\n",
        "    self.conv3 = nn.Conv2d(32, 64, kernel_size=3, stride=1, padding=1)\n",
        "    self.bn3 = nn.BatchNorm2d(64)\n",
        "    self.conv4 = nn.Conv2d(64, 64, kernel_size=3, stride=1, padding=1)\n",
        "    self.bn4 = nn.BatchNorm2d(64)\n",
        "    self.conv5 = nn.Conv2d(64, 128, kernel_size=3, stride=1, padding=1)\n",
        "    self.bn5 = nn.BatchNorm2d(128)\n",
        "    self.conv6 = nn.Conv2d(128, 128, kernel_size=3, stride=1, padding=1)\n",
        "    self.bn6 = nn.BatchNorm2d(128)\n",
        "    self.conv7 = nn.Conv2d(128, 256, kernel_size=3, stride=1, padding=1)\n",
        "    self.bn7 = nn.BatchNorm2d(256)\n",
        "    self.conv8 = nn.Conv2d(256, 256, kernel_size=3, stride=1, padding=1)\n",
        "    self.bn8 = nn.BatchNorm2d(256)\n",
        "    self.dense1 = nn.Linear(256*(((input_shape[1]//2)//2)//2)*(((input_shape[2]//2)//2)//2),500)\n",
        "    self.dropout = nn.Dropout(0.5)\n",
        "    self.dense2 = nn.Linear(500, num_cats)\n",
        "  def forward(self, x):\n",
        "    x = self.conv1(x)\n",
        "    x = F.relu(self.bn1(x))\n",
        "    x = self.conv2(x)\n",
        "    x = F.relu(self.bn2(x))\n",
        "    x = F.max_pool2d(x, kernel_size=2) \n",
        "    x = self.conv3(x)\n",
        "    x = F.relu(self.bn3(x))\n",
        "    x = self.conv4(x)\n",
        "    x = F.relu(self.bn4(x))\n",
        "    x = F.max_pool2d(x, kernel_size=2)\n",
        "    x = self.conv5(x)\n",
        "    x = F.relu(self.bn5(x))\n",
        "    x = self.conv6(x)\n",
        "    x = F.relu(self.bn6(x))\n",
        "    x = F.max_pool2d(x, kernel_size=2)\n",
        "    x = self.conv7(x)\n",
        "    x = F.relu(self.bn7(x))\n",
        "    x = self.conv8(x)\n",
        "    x = F.relu(self.bn8(x))\n",
        "    x = x.view(x.size(0),-1)\n",
        "    x = F.relu(self.dense1(x))\n",
        "    x = self.dropout(x)\n",
        "    x = self.dense2(x)\n",
        "    return x"
      ],
      "execution_count": 14,
      "outputs": []
    },
    {
      "cell_type": "code",
      "metadata": {
        "id": "mnL92PlvluLB"
      },
      "source": [
        "if torch.cuda.is_available():\n",
        "  device=torch.device('cuda:0')\n",
        "else:\n",
        "  device=torch.device('cpu')"
      ],
      "execution_count": 15,
      "outputs": []
    },
    {
      "cell_type": "code",
      "metadata": {
        "id": "_tCH1LP2lzQ5"
      },
      "source": [
        "model = OrganStopModel(input_shape=(1,128,87), batch_size=16, num_cats=4).to(device)"
      ],
      "execution_count": 16,
      "outputs": []
    },
    {
      "cell_type": "code",
      "metadata": {
        "id": "MrX81Y-zlqvB"
      },
      "source": [
        "loss_fn = nn.CrossEntropyLoss()\n",
        "learning_rate = 2e-5\n",
        "optimizer = optim.Adam(model.parameters(), lr=learning_rate)\n",
        "epochs = 60\n",
        "train_losses = []\n",
        "valid_losses = []"
      ],
      "execution_count": 17,
      "outputs": []
    },
    {
      "cell_type": "code",
      "metadata": {
        "id": "QRsbpu2ElVSf"
      },
      "source": [
        "def setlr(optimizer, lr):\n",
        "  for param_group in optimizer.param_groups:\n",
        "    param_group['lr'] = lr\n",
        "\n",
        "  return optimizer"
      ],
      "execution_count": 18,
      "outputs": []
    },
    {
      "cell_type": "code",
      "metadata": {
        "id": "RKTT-Tu5llZI"
      },
      "source": [
        "def train(model, loss_fn, train_loader, valid_loader, epochs, optimizer, train_losses, valid_losses, change_lr=None):\n",
        "  for epoch in tqdm(range(1,epochs+1)):\n",
        "    model.train()\n",
        "    batch_losses=[]\n",
        "    if change_lr:\n",
        "      optimizer = change_lr(optimizer, epoch)\n",
        "    for i, data in enumerate(train_loader):\n",
        "      x, y = data\n",
        "      optimizer.zero_grad()\n",
        "      x = x.to(device, dtype=torch.float32)\n",
        "      y = y.to(device, dtype=torch.long)\n",
        "      y_hat = model(x)\n",
        "      loss = loss_fn(y_hat, y)\n",
        "      loss.backward()\n",
        "      batch_losses.append(loss.item())\n",
        "      optimizer.step()\n",
        "    train_losses.append(batch_losses)\n",
        "    print(f'Epoch - {epoch} Train-Loss : {np.mean(train_losses[-1])}')\n",
        "    model.eval()\n",
        "    batch_losses=[]\n",
        "    trace_y = []\n",
        "    trace_yhat = []\n",
        "    for i, data in enumerate(valid_loader):\n",
        "      x, y = data\n",
        "      x = x.to(device, dtype=torch.float32)\n",
        "      y = y.to(device, dtype=torch.long)\n",
        "      y_hat = model(x)\n",
        "      loss = loss_fn(y_hat, y)\n",
        "      trace_y.append(y.cpu().detach().numpy())\n",
        "      trace_yhat.append(y_hat.cpu().detach().numpy())      \n",
        "      batch_losses.append(loss.item())\n",
        "    valid_losses.append(batch_losses)\n",
        "    trace_y = np.concatenate(trace_y)\n",
        "    trace_yhat = np.concatenate(trace_yhat)\n",
        "    accuracy = np.mean(trace_yhat.argmax(axis=1)==trace_y)\n",
        "    print(f'Epoch - {epoch} Valid-Loss : {np.mean(valid_losses[-1])} Valid-Accuracy : {accuracy}')"
      ],
      "execution_count": 19,
      "outputs": []
    },
    {
      "cell_type": "code",
      "metadata": {
        "colab": {
          "base_uri": "https://localhost:8080/"
        },
        "id": "vJLAfHpDGQsV",
        "outputId": "eeb6c37d-ee1f-4e00-b460-bc9c311e5806"
      },
      "source": [
        "print(model)"
      ],
      "execution_count": 20,
      "outputs": [
        {
          "output_type": "stream",
          "text": [
            "OrganStopModel(\n",
            "  (conv1): Conv2d(1, 32, kernel_size=(3, 3), stride=(1, 1), padding=(1, 1))\n",
            "  (bn1): BatchNorm2d(32, eps=1e-05, momentum=0.1, affine=True, track_running_stats=True)\n",
            "  (conv2): Conv2d(32, 32, kernel_size=(3, 3), stride=(1, 1), padding=(1, 1))\n",
            "  (bn2): BatchNorm2d(32, eps=1e-05, momentum=0.1, affine=True, track_running_stats=True)\n",
            "  (conv3): Conv2d(32, 64, kernel_size=(3, 3), stride=(1, 1), padding=(1, 1))\n",
            "  (bn3): BatchNorm2d(64, eps=1e-05, momentum=0.1, affine=True, track_running_stats=True)\n",
            "  (conv4): Conv2d(64, 64, kernel_size=(3, 3), stride=(1, 1), padding=(1, 1))\n",
            "  (bn4): BatchNorm2d(64, eps=1e-05, momentum=0.1, affine=True, track_running_stats=True)\n",
            "  (conv5): Conv2d(64, 128, kernel_size=(3, 3), stride=(1, 1), padding=(1, 1))\n",
            "  (bn5): BatchNorm2d(128, eps=1e-05, momentum=0.1, affine=True, track_running_stats=True)\n",
            "  (conv6): Conv2d(128, 128, kernel_size=(3, 3), stride=(1, 1), padding=(1, 1))\n",
            "  (bn6): BatchNorm2d(128, eps=1e-05, momentum=0.1, affine=True, track_running_stats=True)\n",
            "  (conv7): Conv2d(128, 256, kernel_size=(3, 3), stride=(1, 1), padding=(1, 1))\n",
            "  (bn7): BatchNorm2d(256, eps=1e-05, momentum=0.1, affine=True, track_running_stats=True)\n",
            "  (conv8): Conv2d(256, 256, kernel_size=(3, 3), stride=(1, 1), padding=(1, 1))\n",
            "  (bn8): BatchNorm2d(256, eps=1e-05, momentum=0.1, affine=True, track_running_stats=True)\n",
            "  (dense1): Linear(in_features=40960, out_features=500, bias=True)\n",
            "  (dropout): Dropout(p=0.5, inplace=False)\n",
            "  (dense2): Linear(in_features=500, out_features=4, bias=True)\n",
            ")\n"
          ],
          "name": "stdout"
        }
      ]
    },
    {
      "cell_type": "code",
      "metadata": {
        "id": "Drc49aEPlf0k"
      },
      "source": [
        "def lr_decay(optimizer, epoch):\n",
        "  if epoch%20==0:\n",
        "    new_lr = learning_rate / (10**(epoch//20))\n",
        "    optimizer = setlr(optimizer, new_lr)\n",
        "    print(f'Changed learning rate to {new_lr}')\n",
        "  return optimizer\n"
      ],
      "execution_count": 21,
      "outputs": []
    },
    {
      "cell_type": "code",
      "metadata": {
        "id": "o43Wef_VN4LY",
        "colab": {
          "base_uri": "https://localhost:8080/",
          "height": 1000,
          "referenced_widgets": [
            "9a8180c3d35847ef9b5cfc7a2ef22464",
            "accfb668f752480f99f7c6ae3a46b8d0",
            "537287393cf44281b314b5b740996778",
            "3a3abcd2f54946d9a2440aea1fd97aff",
            "1cf87d4d2c18488c95db0ba35ecacdb5",
            "7fcb1766996a497396b894d533b7d838",
            "ddf00de2b25e400bb7ad8f903ecbbcc6",
            "d38757848a3546ceaf9fb83bb18149b1"
          ]
        },
        "outputId": "c2e3fab7-b33f-4176-c7e7-20b525492412"
      },
      "source": [
        "# Train the model\n",
        "train(model, loss_fn, train_loader, valid_loader, epochs, optimizer, train_losses, valid_losses, lr_decay)"
      ],
      "execution_count": 22,
      "outputs": [
        {
          "output_type": "stream",
          "text": [
            "/usr/local/lib/python3.6/dist-packages/ipykernel_launcher.py:2: TqdmDeprecationWarning: This function will be removed in tqdm==5.0.0\n",
            "Please use `tqdm.notebook.tqdm` instead of `tqdm.tqdm_notebook`\n",
            "  \n"
          ],
          "name": "stderr"
        },
        {
          "output_type": "display_data",
          "data": {
            "application/vnd.jupyter.widget-view+json": {
              "model_id": "9a8180c3d35847ef9b5cfc7a2ef22464",
              "version_minor": 0,
              "version_major": 2
            },
            "text/plain": [
              "HBox(children=(FloatProgress(value=0.0, max=60.0), HTML(value='')))"
            ]
          },
          "metadata": {
            "tags": []
          }
        },
        {
          "output_type": "stream",
          "text": [
            "Epoch - 1 Train-Loss : 0.10729323375764487\n",
            "Epoch - 1 Valid-Loss : 0.039680860125158424 Valid-Accuracy : 0.9926470588235294\n",
            "Epoch - 2 Train-Loss : 0.012571069051959403\n",
            "Epoch - 2 Valid-Loss : 0.029974988539299162 Valid-Accuracy : 0.9926470588235294\n",
            "Epoch - 3 Train-Loss : 0.004813230971805326\n",
            "Epoch - 3 Valid-Loss : 0.015849291161109304 Valid-Accuracy : 0.9963235294117647\n",
            "Epoch - 4 Train-Loss : 0.001580313242851658\n",
            "Epoch - 4 Valid-Loss : 0.02623704284451378 Valid-Accuracy : 0.9908088235294118\n",
            "Epoch - 5 Train-Loss : 0.0010005486054693513\n",
            "Epoch - 5 Valid-Loss : 0.01889252937042543 Valid-Accuracy : 0.9926470588235294\n",
            "Epoch - 6 Train-Loss : 0.00047640018382593633\n",
            "Epoch - 6 Valid-Loss : 0.017189152450180913 Valid-Accuracy : 0.9963235294117647\n",
            "Epoch - 7 Train-Loss : 0.0005645734508883848\n",
            "Epoch - 7 Valid-Loss : 0.018447614777388106 Valid-Accuracy : 0.9944852941176471\n",
            "Epoch - 8 Train-Loss : 0.00017174679340938503\n",
            "Epoch - 8 Valid-Loss : 0.018146103265173547 Valid-Accuracy : 0.9944852941176471\n",
            "Epoch - 9 Train-Loss : 9.12794464328972e-05\n",
            "Epoch - 9 Valid-Loss : 0.017931821896367824 Valid-Accuracy : 0.9963235294117647\n",
            "Epoch - 10 Train-Loss : 8.872358260630484e-05\n",
            "Epoch - 10 Valid-Loss : 0.018272816958923452 Valid-Accuracy : 0.9963235294117647\n",
            "Epoch - 11 Train-Loss : 6.823072929357932e-05\n",
            "Epoch - 11 Valid-Loss : 0.01865211277739116 Valid-Accuracy : 0.9963235294117647\n",
            "Epoch - 12 Train-Loss : 6.0075576455041514e-05\n",
            "Epoch - 12 Valid-Loss : 0.018690918291146292 Valid-Accuracy : 0.9963235294117647\n",
            "Epoch - 13 Train-Loss : 0.00010445526307386607\n",
            "Epoch - 13 Valid-Loss : 0.025597782373418285 Valid-Accuracy : 0.9926470588235294\n",
            "Epoch - 14 Train-Loss : 6.714641037174559e-05\n",
            "Epoch - 14 Valid-Loss : 0.019356115946797727 Valid-Accuracy : 0.9944852941176471\n",
            "Epoch - 15 Train-Loss : 3.168145265118939e-05\n",
            "Epoch - 15 Valid-Loss : 0.02034530362982423 Valid-Accuracy : 0.9926470588235294\n",
            "Epoch - 16 Train-Loss : 0.00042636863593768955\n",
            "Epoch - 16 Valid-Loss : 0.02760331209755323 Valid-Accuracy : 0.9926470588235294\n",
            "Epoch - 17 Train-Loss : 0.009506494301841438\n",
            "Epoch - 17 Valid-Loss : 0.019620247651667286 Valid-Accuracy : 0.9926470588235294\n",
            "Epoch - 18 Train-Loss : 0.00038243176135169395\n",
            "Epoch - 18 Valid-Loss : 0.02381278702908757 Valid-Accuracy : 0.9926470588235294\n",
            "Epoch - 19 Train-Loss : 5.936272646109156e-05\n",
            "Epoch - 19 Valid-Loss : 0.022137442379127324 Valid-Accuracy : 0.9944852941176471\n",
            "Changed learning rate to 2.0000000000000003e-06\n",
            "Epoch - 20 Train-Loss : 0.00028230583971594733\n",
            "Epoch - 20 Valid-Loss : 0.02239302657699896 Valid-Accuracy : 0.9944852941176471\n",
            "Epoch - 21 Train-Loss : 3.794527825833355e-05\n",
            "Epoch - 21 Valid-Loss : 0.02259820565035063 Valid-Accuracy : 0.9944852941176471\n",
            "Epoch - 22 Train-Loss : 4.601381498141696e-05\n",
            "Epoch - 22 Valid-Loss : 0.02324973339431371 Valid-Accuracy : 0.9944852941176471\n",
            "Epoch - 23 Train-Loss : 0.0001625978490937332\n",
            "Epoch - 23 Valid-Loss : 0.02217361538892165 Valid-Accuracy : 0.9944852941176471\n",
            "Epoch - 24 Train-Loss : 0.0003207355750415349\n",
            "Epoch - 24 Valid-Loss : 0.023456354238899232 Valid-Accuracy : 0.9944852941176471\n",
            "Epoch - 25 Train-Loss : 3.056393748351263e-05\n",
            "Epoch - 25 Valid-Loss : 0.02444323653110809 Valid-Accuracy : 0.9944852941176471\n",
            "Epoch - 26 Train-Loss : 6.12596085295038e-05\n",
            "Epoch - 26 Valid-Loss : 0.022647541616335917 Valid-Accuracy : 0.9944852941176471\n",
            "Epoch - 27 Train-Loss : 7.864268319016808e-05\n",
            "Epoch - 27 Valid-Loss : 0.023448157149389585 Valid-Accuracy : 0.9944852941176471\n",
            "Epoch - 28 Train-Loss : 3.752059278601343e-05\n",
            "Epoch - 28 Valid-Loss : 0.02313249700434028 Valid-Accuracy : 0.9944852941176471\n",
            "Epoch - 29 Train-Loss : 4.587258274299044e-05\n",
            "Epoch - 29 Valid-Loss : 0.021851589134513044 Valid-Accuracy : 0.9963235294117647\n",
            "Epoch - 30 Train-Loss : 3.9296868072119156e-05\n",
            "Epoch - 30 Valid-Loss : 0.022501097441271156 Valid-Accuracy : 0.9944852941176471\n",
            "Epoch - 31 Train-Loss : 3.588915202839496e-05\n",
            "Epoch - 31 Valid-Loss : 0.02240820968480882 Valid-Accuracy : 0.9944852941176471\n",
            "Epoch - 32 Train-Loss : 2.226662175359539e-05\n",
            "Epoch - 32 Valid-Loss : 0.022248789337880187 Valid-Accuracy : 0.9963235294117647\n",
            "Epoch - 33 Train-Loss : 1.6356941499572156e-05\n",
            "Epoch - 33 Valid-Loss : 0.02290682006881978 Valid-Accuracy : 0.9944852941176471\n",
            "Epoch - 34 Train-Loss : 5.145751667067754e-05\n",
            "Epoch - 34 Valid-Loss : 0.021881387184426077 Valid-Accuracy : 0.9944852941176471\n",
            "Epoch - 35 Train-Loss : 7.615349225072532e-05\n",
            "Epoch - 35 Valid-Loss : 0.021583797573383964 Valid-Accuracy : 0.9944852941176471\n",
            "Epoch - 36 Train-Loss : 4.692800094316405e-05\n",
            "Epoch - 36 Valid-Loss : 0.022468509698993114 Valid-Accuracy : 0.9944852941176471\n",
            "Epoch - 37 Train-Loss : 2.0902694088660283e-05\n",
            "Epoch - 37 Valid-Loss : 0.02183110792760387 Valid-Accuracy : 0.9944852941176471\n",
            "Epoch - 38 Train-Loss : 1.6699484342013362e-05\n",
            "Epoch - 38 Valid-Loss : 0.021889895419091275 Valid-Accuracy : 0.9944852941176471\n",
            "Epoch - 39 Train-Loss : 1.4049121628068283e-05\n",
            "Epoch - 39 Valid-Loss : 0.022715218309606655 Valid-Accuracy : 0.9944852941176471\n",
            "Changed learning rate to 2.0000000000000002e-07\n",
            "Epoch - 40 Train-Loss : 2.4740106445225688e-05\n",
            "Epoch - 40 Valid-Loss : 0.022071144104793747 Valid-Accuracy : 0.9944852941176471\n",
            "Epoch - 41 Train-Loss : 2.0850793642597782e-05\n",
            "Epoch - 41 Valid-Loss : 0.022279055678950707 Valid-Accuracy : 0.9944852941176471\n",
            "Epoch - 42 Train-Loss : 2.7705964095235042e-05\n",
            "Epoch - 42 Valid-Loss : 0.02252420481662779 Valid-Accuracy : 0.9944852941176471\n",
            "Epoch - 43 Train-Loss : 9.627286774303703e-06\n",
            "Epoch - 43 Valid-Loss : 0.022857609368771098 Valid-Accuracy : 0.9944852941176471\n",
            "Epoch - 44 Train-Loss : 3.437785692329497e-05\n",
            "Epoch - 44 Valid-Loss : 0.022893742876385074 Valid-Accuracy : 0.9944852941176471\n",
            "Epoch - 45 Train-Loss : 1.5774813650659447e-05\n",
            "Epoch - 45 Valid-Loss : 0.02252924732591812 Valid-Accuracy : 0.9944852941176471\n",
            "Epoch - 46 Train-Loss : 2.784318733163583e-05\n",
            "Epoch - 46 Valid-Loss : 0.022301195681745156 Valid-Accuracy : 0.9944852941176471\n",
            "Epoch - 47 Train-Loss : 4.115023016867157e-05\n",
            "Epoch - 47 Valid-Loss : 0.022302639231597254 Valid-Accuracy : 0.9944852941176471\n",
            "Epoch - 48 Train-Loss : 1.4927258299132227e-05\n",
            "Epoch - 48 Valid-Loss : 0.022409999084926992 Valid-Accuracy : 0.9944852941176471\n",
            "Epoch - 49 Train-Loss : 1.3233285096526846e-05\n",
            "Epoch - 49 Valid-Loss : 0.022365669335851796 Valid-Accuracy : 0.9944852941176471\n",
            "Epoch - 50 Train-Loss : 2.6436436285992247e-05\n",
            "Epoch - 50 Valid-Loss : 0.022204867782848057 Valid-Accuracy : 0.9944852941176471\n",
            "Epoch - 51 Train-Loss : 1.0905588847949945e-05\n",
            "Epoch - 51 Valid-Loss : 0.0222588008375373 Valid-Accuracy : 0.9944852941176471\n",
            "Epoch - 52 Train-Loss : 1.257124233191057e-05\n",
            "Epoch - 52 Valid-Loss : 0.022220225292115797 Valid-Accuracy : 0.9944852941176471\n",
            "Epoch - 53 Train-Loss : 1.112529953963388e-05\n",
            "Epoch - 53 Valid-Loss : 0.022258273818231505 Valid-Accuracy : 0.9944852941176471\n",
            "Epoch - 54 Train-Loss : 9.923469307246029e-06\n",
            "Epoch - 54 Valid-Loss : 0.022870674564490448 Valid-Accuracy : 0.9944852941176471\n",
            "Epoch - 55 Train-Loss : 3.646976624968702e-05\n",
            "Epoch - 55 Valid-Loss : 0.023184767156340352 Valid-Accuracy : 0.9944852941176471\n",
            "Epoch - 56 Train-Loss : 9.95358787021489e-06\n",
            "Epoch - 56 Valid-Loss : 0.02196885502893931 Valid-Accuracy : 0.9944852941176471\n",
            "Epoch - 57 Train-Loss : 2.5332777969955662e-05\n",
            "Epoch - 57 Valid-Loss : 0.022607444730190326 Valid-Accuracy : 0.9944852941176471\n",
            "Epoch - 58 Train-Loss : 2.135955196909512e-05\n",
            "Epoch - 58 Valid-Loss : 0.02236004025791286 Valid-Accuracy : 0.9944852941176471\n",
            "Epoch - 59 Train-Loss : 1.7698405591328866e-05\n",
            "Epoch - 59 Valid-Loss : 0.02255455908486493 Valid-Accuracy : 0.9944852941176471\n",
            "Changed learning rate to 2e-08\n",
            "Epoch - 60 Train-Loss : 1.0216533317340448e-05\n",
            "Epoch - 60 Valid-Loss : 0.022432759677737626 Valid-Accuracy : 0.9944852941176471\n",
            "\n"
          ],
          "name": "stdout"
        }
      ]
    },
    {
      "cell_type": "code",
      "metadata": {
        "id": "fVchpH5239PX",
        "colab": {
          "base_uri": "https://localhost:8080/",
          "height": 392
        },
        "outputId": "2870d829-98d8-4fa4-f35b-61c32e48873b"
      },
      "source": [
        "# Here we plot the Train losses, where blue is the training loss, and orange is the validation loss\n",
        "tl = np.asarray(train_losses).ravel()\n",
        "vl = np.asarray(valid_losses).ravel()\n",
        "plt.figure(figsize = (12, 6))\n",
        "plt.subplot(1,2,1)\n",
        "plt.plot(tl)\n",
        "plt.legend([\"Train Loss\"])\n",
        "plt.subplot(1, 2, 2)\n",
        "plt.plot(vl, \"orange\")"
      ],
      "execution_count": 23,
      "outputs": [
        {
          "output_type": "execute_result",
          "data": {
            "text/plain": [
              "[<matplotlib.lines.Line2D at 0x7f889a1d9320>]"
            ]
          },
          "metadata": {
            "tags": []
          },
          "execution_count": 23
        },
        {
          "output_type": "display_data",
          "data": {
            "image/png": "[encoded data removed]",
            "text/plain": [
              "<Figure size 864x432 with 2 Axes>"
            ]
          },
          "metadata": {
            "tags": [],
            "needs_background": "light"
          }
        }
      ]
    },
    {
      "cell_type": "code",
      "metadata": {
        "id": "z3o4Y_mQ75AO"
      },
      "source": [
        "# Let's save the trained model\n",
        "with open(\"organStopModel.pth\", 'wb') as f:\n",
        "  torch.save(model, f)\n",
        "\n",
        "f.close()"
      ],
      "execution_count": 24,
      "outputs": []
    },
    {
      "cell_type": "code",
      "metadata": {
        "id": "5s_do6uz8Itr"
      },
      "source": [
        "# Save the traindata dataloader's I2C attribute as a file\n",
        "import pickle\n",
        "with open('organTrainDataloaderI2C.pkl', 'wb') as f2:\n",
        "  pickle.dump(train_data.i2c, f2)\n",
        "\n",
        "f2.close()"
      ],
      "execution_count": 25,
      "outputs": []
    },
    {
      "cell_type": "code",
      "metadata": {
        "id": "pOPuhOit_MLH",
        "colab": {
          "base_uri": "https://localhost:8080/"
        },
        "outputId": "35b9c974-ff3e-4f31-9618-205f5021431a"
      },
      "source": [
        "print(type(train))"
      ],
      "execution_count": 26,
      "outputs": [
        {
          "output_type": "stream",
          "text": [
            "<class 'function'>\n"
          ],
          "name": "stdout"
        }
      ]
    },
    {
      "cell_type": "markdown",
      "metadata": {
        "id": "2wk5bYLwFhfG"
      },
      "source": [
        "84/380 of the samples were marked as \"Failed\"\n",
        "\n",
        "I am not sure if the comparison that determines this is mapping samples to labels correctly or not however. Some samples sounded like they were Krummhorn8, were marked as that, but were marked as incorrect.\n",
        "\n",
        "I also discovered that the Krummhorn8EarthworksRight files failed to export correctly, resulting in in its samples to be silent.\n",
        "\n",
        "As of 11/24/2020 I need to retrain the model with the fixes to the Krummhorn8EarthR samples and retest and see what the result is.\n",
        "\n",
        "Another discrepency is that the final layer of the model has 50 nodes, which doesn't align with the current number of categories (3 at the moment)\n"
      ]
    },
    {
      "cell_type": "markdown",
      "metadata": {
        "id": "vOMtS0ZQQvGr"
      },
      "source": [
        "11/25/2020\n",
        "Changed testing segment to own file. Doesn't work yet\n",
        "\n",
        "11/27/2020\n",
        "It appears to work! I had to change the mel_spectrogram function to accept 1 second clips, as well as augment the \"input_shape\" argument into the model."
      ]
    }
  ]
}