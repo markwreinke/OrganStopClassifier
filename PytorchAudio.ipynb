{
  "nbformat": 4,
  "nbformat_minor": 0,
  "metadata": {
    "colab": {
      "name": "PytorchAudio.ipynb",
      "provenance": [],
      "authorship_tag": "ABX9TyPDeMVivloMJdZvCpaQ/TZB",
      "include_colab_link": true
    },
    "kernelspec": {
      "name": "python3",
      "display_name": "Python 3"
    }
  },
  "cells": [
    {
      "cell_type": "markdown",
      "metadata": {
        "id": "view-in-github",
        "colab_type": "text"
      },
      "source": [
        "<a href=\"https://colab.research.google.com/github/markwreinke/OrganStopClassifier/blob/main/PytorchAudio.ipynb\" target=\"_parent\"><img src=\"https://colab.research.google.com/assets/colab-badge.svg\" alt=\"Open In Colab\"/></a>"
      ]
    },
    {
      "cell_type": "code",
      "metadata": {
        "id": "aZQ2mrMtNPxC"
      },
      "source": [
        "# This initially is me "
      ],
      "execution_count": null,
      "outputs": []
    }
  ]
}