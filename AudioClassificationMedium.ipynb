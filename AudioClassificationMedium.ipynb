{
  "nbformat": 4,
  "nbformat_minor": 0,
  "metadata": {
    "colab": {
      "name": "AudioClassificationMedium.ipynb",
      "provenance": [],
      "authorship_tag": "ABX9TyOmPE/KSJHBwd4IzAFgzgqo",
      "include_colab_link": true
    },
    "kernelspec": {
      "display_name": "Python 3",
      "name": "python3"
    },
    "widgets": {
      "application/vnd.jupyter.widget-state+json": {
        "ffeaa4f60a5c4b3297eaa7a350e6b066": {
          "model_module": "@jupyter-widgets/controls",
          "model_name": "HBoxModel",
          "state": {
            "_view_name": "HBoxView",
            "_dom_classes": [],
            "_model_name": "HBoxModel",
            "_view_module": "@jupyter-widgets/controls",
            "_model_module_version": "1.5.0",
            "_view_count": null,
            "_view_module_version": "1.5.0",
            "box_style": "",
            "layout": "IPY_MODEL_cbaabd38dbc04e4da8283e6a0432f24a",
            "_model_module": "@jupyter-widgets/controls",
            "children": [
              "IPY_MODEL_a831d46f66d44ef6ba5ed9b447401ba5",
              "IPY_MODEL_91a8b486d28e47ed9953034c47f8ff70"
            ]
          }
        },
        "cbaabd38dbc04e4da8283e6a0432f24a": {
          "model_module": "@jupyter-widgets/base",
          "model_name": "LayoutModel",
          "state": {
            "_view_name": "LayoutView",
            "grid_template_rows": null,
            "right": null,
            "justify_content": null,
            "_view_module": "@jupyter-widgets/base",
            "overflow": null,
            "_model_module_version": "1.2.0",
            "_view_count": null,
            "flex_flow": null,
            "width": null,
            "min_width": null,
            "border": null,
            "align_items": null,
            "bottom": null,
            "_model_module": "@jupyter-widgets/base",
            "top": null,
            "grid_column": null,
            "overflow_y": null,
            "overflow_x": null,
            "grid_auto_flow": null,
            "grid_area": null,
            "grid_template_columns": null,
            "flex": null,
            "_model_name": "LayoutModel",
            "justify_items": null,
            "grid_row": null,
            "max_height": null,
            "align_content": null,
            "visibility": null,
            "align_self": null,
            "height": null,
            "min_height": null,
            "padding": null,
            "grid_auto_rows": null,
            "grid_gap": null,
            "max_width": null,
            "order": null,
            "_view_module_version": "1.2.0",
            "grid_template_areas": null,
            "object_position": null,
            "object_fit": null,
            "grid_auto_columns": null,
            "margin": null,
            "display": null,
            "left": null
          }
        },
        "a831d46f66d44ef6ba5ed9b447401ba5": {
          "model_module": "@jupyter-widgets/controls",
          "model_name": "FloatProgressModel",
          "state": {
            "_view_name": "ProgressView",
            "style": "IPY_MODEL_15a9d199f83f42e2bc49028c1b51b084",
            "_dom_classes": [],
            "description": "100%",
            "_model_name": "FloatProgressModel",
            "bar_style": "success",
            "max": 1600,
            "_view_module": "@jupyter-widgets/controls",
            "_model_module_version": "1.5.0",
            "value": 1600,
            "_view_count": null,
            "_view_module_version": "1.5.0",
            "orientation": "horizontal",
            "min": 0,
            "description_tooltip": null,
            "_model_module": "@jupyter-widgets/controls",
            "layout": "IPY_MODEL_995f2a2e16884ed5a5d213bcd57ecada"
          }
        },
        "91a8b486d28e47ed9953034c47f8ff70": {
          "model_module": "@jupyter-widgets/controls",
          "model_name": "HTMLModel",
          "state": {
            "_view_name": "HTMLView",
            "style": "IPY_MODEL_763945a8c96e4353ba7693ee59881dc7",
            "_dom_classes": [],
            "description": "",
            "_model_name": "HTMLModel",
            "placeholder": "​",
            "_view_module": "@jupyter-widgets/controls",
            "_model_module_version": "1.5.0",
            "value": " 1600/1600 [11:57&lt;00:00,  2.23it/s]",
            "_view_count": null,
            "_view_module_version": "1.5.0",
            "description_tooltip": null,
            "_model_module": "@jupyter-widgets/controls",
            "layout": "IPY_MODEL_611cfa3513fe40f89c91b8eb2e6db872"
          }
        },
        "15a9d199f83f42e2bc49028c1b51b084": {
          "model_module": "@jupyter-widgets/controls",
          "model_name": "ProgressStyleModel",
          "state": {
            "_view_name": "StyleView",
            "_model_name": "ProgressStyleModel",
            "description_width": "initial",
            "_view_module": "@jupyter-widgets/base",
            "_model_module_version": "1.5.0",
            "_view_count": null,
            "_view_module_version": "1.2.0",
            "bar_color": null,
            "_model_module": "@jupyter-widgets/controls"
          }
        },
        "995f2a2e16884ed5a5d213bcd57ecada": {
          "model_module": "@jupyter-widgets/base",
          "model_name": "LayoutModel",
          "state": {
            "_view_name": "LayoutView",
            "grid_template_rows": null,
            "right": null,
            "justify_content": null,
            "_view_module": "@jupyter-widgets/base",
            "overflow": null,
            "_model_module_version": "1.2.0",
            "_view_count": null,
            "flex_flow": null,
            "width": null,
            "min_width": null,
            "border": null,
            "align_items": null,
            "bottom": null,
            "_model_module": "@jupyter-widgets/base",
            "top": null,
            "grid_column": null,
            "overflow_y": null,
            "overflow_x": null,
            "grid_auto_flow": null,
            "grid_area": null,
            "grid_template_columns": null,
            "flex": null,
            "_model_name": "LayoutModel",
            "justify_items": null,
            "grid_row": null,
            "max_height": null,
            "align_content": null,
            "visibility": null,
            "align_self": null,
            "height": null,
            "min_height": null,
            "padding": null,
            "grid_auto_rows": null,
            "grid_gap": null,
            "max_width": null,
            "order": null,
            "_view_module_version": "1.2.0",
            "grid_template_areas": null,
            "object_position": null,
            "object_fit": null,
            "grid_auto_columns": null,
            "margin": null,
            "display": null,
            "left": null
          }
        },
        "763945a8c96e4353ba7693ee59881dc7": {
          "model_module": "@jupyter-widgets/controls",
          "model_name": "DescriptionStyleModel",
          "state": {
            "_view_name": "StyleView",
            "_model_name": "DescriptionStyleModel",
            "description_width": "",
            "_view_module": "@jupyter-widgets/base",
            "_model_module_version": "1.5.0",
            "_view_count": null,
            "_view_module_version": "1.2.0",
            "_model_module": "@jupyter-widgets/controls"
          }
        },
        "611cfa3513fe40f89c91b8eb2e6db872": {
          "model_module": "@jupyter-widgets/base",
          "model_name": "LayoutModel",
          "state": {
            "_view_name": "LayoutView",
            "grid_template_rows": null,
            "right": null,
            "justify_content": null,
            "_view_module": "@jupyter-widgets/base",
            "overflow": null,
            "_model_module_version": "1.2.0",
            "_view_count": null,
            "flex_flow": null,
            "width": null,
            "min_width": null,
            "border": null,
            "align_items": null,
            "bottom": null,
            "_model_module": "@jupyter-widgets/base",
            "top": null,
            "grid_column": null,
            "overflow_y": null,
            "overflow_x": null,
            "grid_auto_flow": null,
            "grid_area": null,
            "grid_template_columns": null,
            "flex": null,
            "_model_name": "LayoutModel",
            "justify_items": null,
            "grid_row": null,
            "max_height": null,
            "align_content": null,
            "visibility": null,
            "align_self": null,
            "height": null,
            "min_height": null,
            "padding": null,
            "grid_auto_rows": null,
            "grid_gap": null,
            "max_width": null,
            "order": null,
            "_view_module_version": "1.2.0",
            "grid_template_areas": null,
            "object_position": null,
            "object_fit": null,
            "grid_auto_columns": null,
            "margin": null,
            "display": null,
            "left": null
          }
        },
        "4bfe5fc44778449cba9033a2bdefc7f4": {
          "model_module": "@jupyter-widgets/controls",
          "model_name": "HBoxModel",
          "state": {
            "_view_name": "HBoxView",
            "_dom_classes": [],
            "_model_name": "HBoxModel",
            "_view_module": "@jupyter-widgets/controls",
            "_model_module_version": "1.5.0",
            "_view_count": null,
            "_view_module_version": "1.5.0",
            "box_style": "",
            "layout": "IPY_MODEL_c2e582d925ab4b349cb334ce57767ad5",
            "_model_module": "@jupyter-widgets/controls",
            "children": [
              "IPY_MODEL_36e13499cb064e738e0dc8183ace0ec6",
              "IPY_MODEL_548ea76cc8d34f559ae7f9022335d22f"
            ]
          }
        },
        "c2e582d925ab4b349cb334ce57767ad5": {
          "model_module": "@jupyter-widgets/base",
          "model_name": "LayoutModel",
          "state": {
            "_view_name": "LayoutView",
            "grid_template_rows": null,
            "right": null,
            "justify_content": null,
            "_view_module": "@jupyter-widgets/base",
            "overflow": null,
            "_model_module_version": "1.2.0",
            "_view_count": null,
            "flex_flow": null,
            "width": null,
            "min_width": null,
            "border": null,
            "align_items": null,
            "bottom": null,
            "_model_module": "@jupyter-widgets/base",
            "top": null,
            "grid_column": null,
            "overflow_y": null,
            "overflow_x": null,
            "grid_auto_flow": null,
            "grid_area": null,
            "grid_template_columns": null,
            "flex": null,
            "_model_name": "LayoutModel",
            "justify_items": null,
            "grid_row": null,
            "max_height": null,
            "align_content": null,
            "visibility": null,
            "align_self": null,
            "height": null,
            "min_height": null,
            "padding": null,
            "grid_auto_rows": null,
            "grid_gap": null,
            "max_width": null,
            "order": null,
            "_view_module_version": "1.2.0",
            "grid_template_areas": null,
            "object_position": null,
            "object_fit": null,
            "grid_auto_columns": null,
            "margin": null,
            "display": null,
            "left": null
          }
        },
        "36e13499cb064e738e0dc8183ace0ec6": {
          "model_module": "@jupyter-widgets/controls",
          "model_name": "FloatProgressModel",
          "state": {
            "_view_name": "ProgressView",
            "style": "IPY_MODEL_ea7e885876f14f1b9bbc6fcfd4d54b4d",
            "_dom_classes": [],
            "description": "100%",
            "_model_name": "FloatProgressModel",
            "bar_style": "success",
            "max": 400,
            "_view_module": "@jupyter-widgets/controls",
            "_model_module_version": "1.5.0",
            "value": 400,
            "_view_count": null,
            "_view_module_version": "1.5.0",
            "orientation": "horizontal",
            "min": 0,
            "description_tooltip": null,
            "_model_module": "@jupyter-widgets/controls",
            "layout": "IPY_MODEL_05160718409c4a83a0ec9330b96b9bc6"
          }
        },
        "548ea76cc8d34f559ae7f9022335d22f": {
          "model_module": "@jupyter-widgets/controls",
          "model_name": "HTMLModel",
          "state": {
            "_view_name": "HTMLView",
            "style": "IPY_MODEL_94df1241e0d04534b415af598c2aa332",
            "_dom_classes": [],
            "description": "",
            "_model_name": "HTMLModel",
            "placeholder": "​",
            "_view_module": "@jupyter-widgets/controls",
            "_model_module_version": "1.5.0",
            "value": " 400/400 [03:40&lt;00:00,  1.81it/s]",
            "_view_count": null,
            "_view_module_version": "1.5.0",
            "description_tooltip": null,
            "_model_module": "@jupyter-widgets/controls",
            "layout": "IPY_MODEL_ba9f84a9e2cd42f69370efce0ece2dfd"
          }
        },
        "ea7e885876f14f1b9bbc6fcfd4d54b4d": {
          "model_module": "@jupyter-widgets/controls",
          "model_name": "ProgressStyleModel",
          "state": {
            "_view_name": "StyleView",
            "_model_name": "ProgressStyleModel",
            "description_width": "initial",
            "_view_module": "@jupyter-widgets/base",
            "_model_module_version": "1.5.0",
            "_view_count": null,
            "_view_module_version": "1.2.0",
            "bar_color": null,
            "_model_module": "@jupyter-widgets/controls"
          }
        },
        "05160718409c4a83a0ec9330b96b9bc6": {
          "model_module": "@jupyter-widgets/base",
          "model_name": "LayoutModel",
          "state": {
            "_view_name": "LayoutView",
            "grid_template_rows": null,
            "right": null,
            "justify_content": null,
            "_view_module": "@jupyter-widgets/base",
            "overflow": null,
            "_model_module_version": "1.2.0",
            "_view_count": null,
            "flex_flow": null,
            "width": null,
            "min_width": null,
            "border": null,
            "align_items": null,
            "bottom": null,
            "_model_module": "@jupyter-widgets/base",
            "top": null,
            "grid_column": null,
            "overflow_y": null,
            "overflow_x": null,
            "grid_auto_flow": null,
            "grid_area": null,
            "grid_template_columns": null,
            "flex": null,
            "_model_name": "LayoutModel",
            "justify_items": null,
            "grid_row": null,
            "max_height": null,
            "align_content": null,
            "visibility": null,
            "align_self": null,
            "height": null,
            "min_height": null,
            "padding": null,
            "grid_auto_rows": null,
            "grid_gap": null,
            "max_width": null,
            "order": null,
            "_view_module_version": "1.2.0",
            "grid_template_areas": null,
            "object_position": null,
            "object_fit": null,
            "grid_auto_columns": null,
            "margin": null,
            "display": null,
            "left": null
          }
        },
        "94df1241e0d04534b415af598c2aa332": {
          "model_module": "@jupyter-widgets/controls",
          "model_name": "DescriptionStyleModel",
          "state": {
            "_view_name": "StyleView",
            "_model_name": "DescriptionStyleModel",
            "description_width": "",
            "_view_module": "@jupyter-widgets/base",
            "_model_module_version": "1.5.0",
            "_view_count": null,
            "_view_module_version": "1.2.0",
            "_model_module": "@jupyter-widgets/controls"
          }
        },
        "ba9f84a9e2cd42f69370efce0ece2dfd": {
          "model_module": "@jupyter-widgets/base",
          "model_name": "LayoutModel",
          "state": {
            "_view_name": "LayoutView",
            "grid_template_rows": null,
            "right": null,
            "justify_content": null,
            "_view_module": "@jupyter-widgets/base",
            "overflow": null,
            "_model_module_version": "1.2.0",
            "_view_count": null,
            "flex_flow": null,
            "width": null,
            "min_width": null,
            "border": null,
            "align_items": null,
            "bottom": null,
            "_model_module": "@jupyter-widgets/base",
            "top": null,
            "grid_column": null,
            "overflow_y": null,
            "overflow_x": null,
            "grid_auto_flow": null,
            "grid_area": null,
            "grid_template_columns": null,
            "flex": null,
            "_model_name": "LayoutModel",
            "justify_items": null,
            "grid_row": null,
            "max_height": null,
            "align_content": null,
            "visibility": null,
            "align_self": null,
            "height": null,
            "min_height": null,
            "padding": null,
            "grid_auto_rows": null,
            "grid_gap": null,
            "max_width": null,
            "order": null,
            "_view_module_version": "1.2.0",
            "grid_template_areas": null,
            "object_position": null,
            "object_fit": null,
            "grid_auto_columns": null,
            "margin": null,
            "display": null,
            "left": null
          }
        },
        "49afc169b7884ba8b7a0138b5e78cf6e": {
          "model_module": "@jupyter-widgets/controls",
          "model_name": "HBoxModel",
          "state": {
            "_view_name": "HBoxView",
            "_dom_classes": [],
            "_model_name": "HBoxModel",
            "_view_module": "@jupyter-widgets/controls",
            "_model_module_version": "1.5.0",
            "_view_count": null,
            "_view_module_version": "1.5.0",
            "box_style": "",
            "layout": "IPY_MODEL_27a9f76248dc4b9caeb87a326fd68024",
            "_model_module": "@jupyter-widgets/controls",
            "children": [
              "IPY_MODEL_7a6d050190df460f833014764e740557",
              "IPY_MODEL_225b1b5e602c4ce2bb51bfd904b5ea14"
            ]
          }
        },
        "27a9f76248dc4b9caeb87a326fd68024": {
          "model_module": "@jupyter-widgets/base",
          "model_name": "LayoutModel",
          "state": {
            "_view_name": "LayoutView",
            "grid_template_rows": null,
            "right": null,
            "justify_content": null,
            "_view_module": "@jupyter-widgets/base",
            "overflow": null,
            "_model_module_version": "1.2.0",
            "_view_count": null,
            "flex_flow": null,
            "width": null,
            "min_width": null,
            "border": null,
            "align_items": null,
            "bottom": null,
            "_model_module": "@jupyter-widgets/base",
            "top": null,
            "grid_column": null,
            "overflow_y": null,
            "overflow_x": null,
            "grid_auto_flow": null,
            "grid_area": null,
            "grid_template_columns": null,
            "flex": null,
            "_model_name": "LayoutModel",
            "justify_items": null,
            "grid_row": null,
            "max_height": null,
            "align_content": null,
            "visibility": null,
            "align_self": null,
            "height": null,
            "min_height": null,
            "padding": null,
            "grid_auto_rows": null,
            "grid_gap": null,
            "max_width": null,
            "order": null,
            "_view_module_version": "1.2.0",
            "grid_template_areas": null,
            "object_position": null,
            "object_fit": null,
            "grid_auto_columns": null,
            "margin": null,
            "display": null,
            "left": null
          }
        },
        "7a6d050190df460f833014764e740557": {
          "model_module": "@jupyter-widgets/controls",
          "model_name": "FloatProgressModel",
          "state": {
            "_view_name": "ProgressView",
            "style": "IPY_MODEL_937fec1575a44ccd9964c720ec15813e",
            "_dom_classes": [],
            "description": "100%",
            "_model_name": "FloatProgressModel",
            "bar_style": "success",
            "max": 87306240,
            "_view_module": "@jupyter-widgets/controls",
            "_model_module_version": "1.5.0",
            "value": 87306240,
            "_view_count": null,
            "_view_module_version": "1.5.0",
            "orientation": "horizontal",
            "min": 0,
            "description_tooltip": null,
            "_model_module": "@jupyter-widgets/controls",
            "layout": "IPY_MODEL_e8e3f024cead404fad39bc965f079ad5"
          }
        },
        "225b1b5e602c4ce2bb51bfd904b5ea14": {
          "model_module": "@jupyter-widgets/controls",
          "model_name": "HTMLModel",
          "state": {
            "_view_name": "HTMLView",
            "style": "IPY_MODEL_da0d0ea42eec45a48413c1e32b863dd4",
            "_dom_classes": [],
            "description": "",
            "_model_name": "HTMLModel",
            "placeholder": "​",
            "_view_module": "@jupyter-widgets/controls",
            "_model_module_version": "1.5.0",
            "value": " 83.3M/83.3M [00:00&lt;00:00, 260MB/s]",
            "_view_count": null,
            "_view_module_version": "1.5.0",
            "description_tooltip": null,
            "_model_module": "@jupyter-widgets/controls",
            "layout": "IPY_MODEL_ca89457f413344698845c63ab7a39889"
          }
        },
        "937fec1575a44ccd9964c720ec15813e": {
          "model_module": "@jupyter-widgets/controls",
          "model_name": "ProgressStyleModel",
          "state": {
            "_view_name": "StyleView",
            "_model_name": "ProgressStyleModel",
            "description_width": "initial",
            "_view_module": "@jupyter-widgets/base",
            "_model_module_version": "1.5.0",
            "_view_count": null,
            "_view_module_version": "1.2.0",
            "bar_color": null,
            "_model_module": "@jupyter-widgets/controls"
          }
        },
        "e8e3f024cead404fad39bc965f079ad5": {
          "model_module": "@jupyter-widgets/base",
          "model_name": "LayoutModel",
          "state": {
            "_view_name": "LayoutView",
            "grid_template_rows": null,
            "right": null,
            "justify_content": null,
            "_view_module": "@jupyter-widgets/base",
            "overflow": null,
            "_model_module_version": "1.2.0",
            "_view_count": null,
            "flex_flow": null,
            "width": null,
            "min_width": null,
            "border": null,
            "align_items": null,
            "bottom": null,
            "_model_module": "@jupyter-widgets/base",
            "top": null,
            "grid_column": null,
            "overflow_y": null,
            "overflow_x": null,
            "grid_auto_flow": null,
            "grid_area": null,
            "grid_template_columns": null,
            "flex": null,
            "_model_name": "LayoutModel",
            "justify_items": null,
            "grid_row": null,
            "max_height": null,
            "align_content": null,
            "visibility": null,
            "align_self": null,
            "height": null,
            "min_height": null,
            "padding": null,
            "grid_auto_rows": null,
            "grid_gap": null,
            "max_width": null,
            "order": null,
            "_view_module_version": "1.2.0",
            "grid_template_areas": null,
            "object_position": null,
            "object_fit": null,
            "grid_auto_columns": null,
            "margin": null,
            "display": null,
            "left": null
          }
        },
        "da0d0ea42eec45a48413c1e32b863dd4": {
          "model_module": "@jupyter-widgets/controls",
          "model_name": "DescriptionStyleModel",
          "state": {
            "_view_name": "StyleView",
            "_model_name": "DescriptionStyleModel",
            "description_width": "",
            "_view_module": "@jupyter-widgets/base",
            "_model_module_version": "1.5.0",
            "_view_count": null,
            "_view_module_version": "1.2.0",
            "_model_module": "@jupyter-widgets/controls"
          }
        },
        "ca89457f413344698845c63ab7a39889": {
          "model_module": "@jupyter-widgets/base",
          "model_name": "LayoutModel",
          "state": {
            "_view_name": "LayoutView",
            "grid_template_rows": null,
            "right": null,
            "justify_content": null,
            "_view_module": "@jupyter-widgets/base",
            "overflow": null,
            "_model_module_version": "1.2.0",
            "_view_count": null,
            "flex_flow": null,
            "width": null,
            "min_width": null,
            "border": null,
            "align_items": null,
            "bottom": null,
            "_model_module": "@jupyter-widgets/base",
            "top": null,
            "grid_column": null,
            "overflow_y": null,
            "overflow_x": null,
            "grid_auto_flow": null,
            "grid_area": null,
            "grid_template_columns": null,
            "flex": null,
            "_model_name": "LayoutModel",
            "justify_items": null,
            "grid_row": null,
            "max_height": null,
            "align_content": null,
            "visibility": null,
            "align_self": null,
            "height": null,
            "min_height": null,
            "padding": null,
            "grid_auto_rows": null,
            "grid_gap": null,
            "max_width": null,
            "order": null,
            "_view_module_version": "1.2.0",
            "grid_template_areas": null,
            "object_position": null,
            "object_fit": null,
            "grid_auto_columns": null,
            "margin": null,
            "display": null,
            "left": null
          }
        },
        "cce15f3456c24e7fbd544cd9925db2a2": {
          "model_module": "@jupyter-widgets/controls",
          "model_name": "HBoxModel",
          "state": {
            "_view_name": "HBoxView",
            "_dom_classes": [],
            "_model_name": "HBoxModel",
            "_view_module": "@jupyter-widgets/controls",
            "_model_module_version": "1.5.0",
            "_view_count": null,
            "_view_module_version": "1.5.0",
            "box_style": "",
            "layout": "IPY_MODEL_3628d176e46c470f9e8d6f0c2ad25d8c",
            "_model_module": "@jupyter-widgets/controls",
            "children": [
              "IPY_MODEL_57260760de3b4e5ebe8d5d9c045dc6f0",
              "IPY_MODEL_86b443d4fc564bd7a4c3b69c384682cf"
            ]
          }
        },
        "3628d176e46c470f9e8d6f0c2ad25d8c": {
          "model_module": "@jupyter-widgets/base",
          "model_name": "LayoutModel",
          "state": {
            "_view_name": "LayoutView",
            "grid_template_rows": null,
            "right": null,
            "justify_content": null,
            "_view_module": "@jupyter-widgets/base",
            "overflow": null,
            "_model_module_version": "1.2.0",
            "_view_count": null,
            "flex_flow": null,
            "width": null,
            "min_width": null,
            "border": null,
            "align_items": null,
            "bottom": null,
            "_model_module": "@jupyter-widgets/base",
            "top": null,
            "grid_column": null,
            "overflow_y": null,
            "overflow_x": null,
            "grid_auto_flow": null,
            "grid_area": null,
            "grid_template_columns": null,
            "flex": null,
            "_model_name": "LayoutModel",
            "justify_items": null,
            "grid_row": null,
            "max_height": null,
            "align_content": null,
            "visibility": null,
            "align_self": null,
            "height": null,
            "min_height": null,
            "padding": null,
            "grid_auto_rows": null,
            "grid_gap": null,
            "max_width": null,
            "order": null,
            "_view_module_version": "1.2.0",
            "grid_template_areas": null,
            "object_position": null,
            "object_fit": null,
            "grid_auto_columns": null,
            "margin": null,
            "display": null,
            "left": null
          }
        },
        "57260760de3b4e5ebe8d5d9c045dc6f0": {
          "model_module": "@jupyter-widgets/controls",
          "model_name": "FloatProgressModel",
          "state": {
            "_view_name": "ProgressView",
            "style": "IPY_MODEL_4d05d0826e8b451d89c7acd30452d3ab",
            "_dom_classes": [],
            "description": "100%",
            "_model_name": "FloatProgressModel",
            "bar_style": "success",
            "max": 50,
            "_view_module": "@jupyter-widgets/controls",
            "_model_module_version": "1.5.0",
            "value": 50,
            "_view_count": null,
            "_view_module_version": "1.5.0",
            "orientation": "horizontal",
            "min": 0,
            "description_tooltip": null,
            "_model_module": "@jupyter-widgets/controls",
            "layout": "IPY_MODEL_f3416525f76d4c0e9611a659c1981e45"
          }
        },
        "86b443d4fc564bd7a4c3b69c384682cf": {
          "model_module": "@jupyter-widgets/controls",
          "model_name": "HTMLModel",
          "state": {
            "_view_name": "HTMLView",
            "style": "IPY_MODEL_540bc2e13645451aaf8ea427671f3e92",
            "_dom_classes": [],
            "description": "",
            "_model_name": "HTMLModel",
            "placeholder": "​",
            "_view_module": "@jupyter-widgets/controls",
            "_model_module_version": "1.5.0",
            "value": " 50/50 [12:23&lt;00:00, 14.88s/it]",
            "_view_count": null,
            "_view_module_version": "1.5.0",
            "description_tooltip": null,
            "_model_module": "@jupyter-widgets/controls",
            "layout": "IPY_MODEL_dfaf3d64dae54baf9286cc50bf216966"
          }
        },
        "4d05d0826e8b451d89c7acd30452d3ab": {
          "model_module": "@jupyter-widgets/controls",
          "model_name": "ProgressStyleModel",
          "state": {
            "_view_name": "StyleView",
            "_model_name": "ProgressStyleModel",
            "description_width": "initial",
            "_view_module": "@jupyter-widgets/base",
            "_model_module_version": "1.5.0",
            "_view_count": null,
            "_view_module_version": "1.2.0",
            "bar_color": null,
            "_model_module": "@jupyter-widgets/controls"
          }
        },
        "f3416525f76d4c0e9611a659c1981e45": {
          "model_module": "@jupyter-widgets/base",
          "model_name": "LayoutModel",
          "state": {
            "_view_name": "LayoutView",
            "grid_template_rows": null,
            "right": null,
            "justify_content": null,
            "_view_module": "@jupyter-widgets/base",
            "overflow": null,
            "_model_module_version": "1.2.0",
            "_view_count": null,
            "flex_flow": null,
            "width": null,
            "min_width": null,
            "border": null,
            "align_items": null,
            "bottom": null,
            "_model_module": "@jupyter-widgets/base",
            "top": null,
            "grid_column": null,
            "overflow_y": null,
            "overflow_x": null,
            "grid_auto_flow": null,
            "grid_area": null,
            "grid_template_columns": null,
            "flex": null,
            "_model_name": "LayoutModel",
            "justify_items": null,
            "grid_row": null,
            "max_height": null,
            "align_content": null,
            "visibility": null,
            "align_self": null,
            "height": null,
            "min_height": null,
            "padding": null,
            "grid_auto_rows": null,
            "grid_gap": null,
            "max_width": null,
            "order": null,
            "_view_module_version": "1.2.0",
            "grid_template_areas": null,
            "object_position": null,
            "object_fit": null,
            "grid_auto_columns": null,
            "margin": null,
            "display": null,
            "left": null
          }
        },
        "540bc2e13645451aaf8ea427671f3e92": {
          "model_module": "@jupyter-widgets/controls",
          "model_name": "DescriptionStyleModel",
          "state": {
            "_view_name": "StyleView",
            "_model_name": "DescriptionStyleModel",
            "description_width": "",
            "_view_module": "@jupyter-widgets/base",
            "_model_module_version": "1.5.0",
            "_view_count": null,
            "_view_module_version": "1.2.0",
            "_model_module": "@jupyter-widgets/controls"
          }
        },
        "dfaf3d64dae54baf9286cc50bf216966": {
          "model_module": "@jupyter-widgets/base",
          "model_name": "LayoutModel",
          "state": {
            "_view_name": "LayoutView",
            "grid_template_rows": null,
            "right": null,
            "justify_content": null,
            "_view_module": "@jupyter-widgets/base",
            "overflow": null,
            "_model_module_version": "1.2.0",
            "_view_count": null,
            "flex_flow": null,
            "width": null,
            "min_width": null,
            "border": null,
            "align_items": null,
            "bottom": null,
            "_model_module": "@jupyter-widgets/base",
            "top": null,
            "grid_column": null,
            "overflow_y": null,
            "overflow_x": null,
            "grid_auto_flow": null,
            "grid_area": null,
            "grid_template_columns": null,
            "flex": null,
            "_model_name": "LayoutModel",
            "justify_items": null,
            "grid_row": null,
            "max_height": null,
            "align_content": null,
            "visibility": null,
            "align_self": null,
            "height": null,
            "min_height": null,
            "padding": null,
            "grid_auto_rows": null,
            "grid_gap": null,
            "max_width": null,
            "order": null,
            "_view_module_version": "1.2.0",
            "grid_template_areas": null,
            "object_position": null,
            "object_fit": null,
            "grid_auto_columns": null,
            "margin": null,
            "display": null,
            "left": null
          }
        }
      }
    },
    "accelerator": "GPU"
  },
  "cells": [
    {
      "cell_type": "markdown",
      "metadata": {
        "id": "view-in-github",
        "colab_type": "text"
      },
      "source": [
        "<a href=\"https://colab.research.google.com/github/markwreinke/OrganStopClassifier/blob/main/AudioClassificationMedium.ipynb\" target=\"_parent\"><img src=\"https://colab.research.google.com/assets/colab-badge.svg\" alt=\"Open In Colab\"/></a>"
      ]
    },
    {
      "cell_type": "markdown",
      "metadata": {
        "id": "KGJX6CnV53VA"
      },
      "source": [
        "This is a tutorial taken from https://medium.com/@hasithsura/audio-classification-d37a82d6715 \n",
        "\n",
        "Be sure to look at the github, as the article doesn't have the whole code: https://github.com/hasithsura/Environmental-Sound-Classification/blob/master/ESC50-Pytorch.ipynb\n"
      ]
    },
    {
      "cell_type": "code",
      "metadata": {
        "id": "QpfTjsnckRp2"
      },
      "source": [
        "import pandas as pd\n",
        "import librosa\n",
        "import numpy as np\n",
        "import matplotlib.pyplot as plt\n",
        "import librosa.display\n",
        "import torch\n",
        "import torch.nn as nn\n",
        "import torch.nn.functional as F\n",
        "import torch.optim as optim\n",
        "from torch.utils.data import Dataset, DataLoader\n",
        "from tqdm import tqdm_notebook as tqdm\n",
        "import os"
      ],
      "execution_count": 1,
      "outputs": []
    },
    {
      "cell_type": "code",
      "metadata": {
        "id": "I79dQ3pqRg3u",
        "outputId": "ec7cd9a6-4985-4ec2-9030-b93b6285798b",
        "colab": {
          "base_uri": "https://localhost:8080/"
        }
      },
      "source": [
        "# Mounting google drive into colab, and ensuring we are in the data folder\n",
        "from google.colab import drive\n",
        "drive.mount(\"/content/drive\")\n",
        "\n",
        "dir = \"/content/drive/My Drive/ESC-50-master\"\n",
        "print(os.getcwd())\n",
        "\n",
        "if(os.getcwd() != dir):\n",
        "  os.chdir(dir)\n",
        "\n",
        "print(os.getcwd())"
      ],
      "execution_count": 2,
      "outputs": [
        {
          "output_type": "stream",
          "text": [
            "Mounted at /content/drive\n",
            "/content\n",
            "/content/drive/My Drive/ESC-50-master\n"
          ],
          "name": "stdout"
        }
      ]
    },
    {
      "cell_type": "code",
      "metadata": {
        "id": "VR62F6pOkQz8"
      },
      "source": [
        "# Here we are reading a comma separated values (CSV) file using pandas into the \n",
        "# variable df. df is type a 2D data structure with labeled axes, \n",
        "# as a DataFrame or TextParser\n",
        "df = pd.read_csv('meta/esc50.csv')"
      ],
      "execution_count": 3,
      "outputs": []
    },
    {
      "cell_type": "code",
      "metadata": {
        "id": "PrhJn8L9k-Ca",
        "outputId": "4faf007e-7b09-4efb-dd0f-25dd48ec10a5",
        "colab": {
          "base_uri": "https://localhost:8080/",
          "height": 195
        }
      },
      "source": [
        "# Return the first n rows of the DataFrame. n defaults to 5 with no args\n",
        "df.head()"
      ],
      "execution_count": 4,
      "outputs": [
        {
          "output_type": "execute_result",
          "data": {
            "text/html": [
              "<div>\n",
              "<style scoped>\n",
              "    .dataframe tbody tr th:only-of-type {\n",
              "        vertical-align: middle;\n",
              "    }\n",
              "\n",
              "    .dataframe tbody tr th {\n",
              "        vertical-align: top;\n",
              "    }\n",
              "\n",
              "    .dataframe thead th {\n",
              "        text-align: right;\n",
              "    }\n",
              "</style>\n",
              "<table border=\"1\" class=\"dataframe\">\n",
              "  <thead>\n",
              "    <tr style=\"text-align: right;\">\n",
              "      <th></th>\n",
              "      <th>filename</th>\n",
              "      <th>fold</th>\n",
              "      <th>target</th>\n",
              "      <th>category</th>\n",
              "      <th>esc10</th>\n",
              "      <th>src_file</th>\n",
              "      <th>take</th>\n",
              "    </tr>\n",
              "  </thead>\n",
              "  <tbody>\n",
              "    <tr>\n",
              "      <th>0</th>\n",
              "      <td>1-100032-A-0.wav</td>\n",
              "      <td>1</td>\n",
              "      <td>0</td>\n",
              "      <td>dog</td>\n",
              "      <td>True</td>\n",
              "      <td>100032</td>\n",
              "      <td>A</td>\n",
              "    </tr>\n",
              "    <tr>\n",
              "      <th>1</th>\n",
              "      <td>1-100038-A-14.wav</td>\n",
              "      <td>1</td>\n",
              "      <td>14</td>\n",
              "      <td>chirping_birds</td>\n",
              "      <td>False</td>\n",
              "      <td>100038</td>\n",
              "      <td>A</td>\n",
              "    </tr>\n",
              "    <tr>\n",
              "      <th>2</th>\n",
              "      <td>1-100210-A-36.wav</td>\n",
              "      <td>1</td>\n",
              "      <td>36</td>\n",
              "      <td>vacuum_cleaner</td>\n",
              "      <td>False</td>\n",
              "      <td>100210</td>\n",
              "      <td>A</td>\n",
              "    </tr>\n",
              "    <tr>\n",
              "      <th>3</th>\n",
              "      <td>1-100210-B-36.wav</td>\n",
              "      <td>1</td>\n",
              "      <td>36</td>\n",
              "      <td>vacuum_cleaner</td>\n",
              "      <td>False</td>\n",
              "      <td>100210</td>\n",
              "      <td>B</td>\n",
              "    </tr>\n",
              "    <tr>\n",
              "      <th>4</th>\n",
              "      <td>1-101296-A-19.wav</td>\n",
              "      <td>1</td>\n",
              "      <td>19</td>\n",
              "      <td>thunderstorm</td>\n",
              "      <td>False</td>\n",
              "      <td>101296</td>\n",
              "      <td>A</td>\n",
              "    </tr>\n",
              "  </tbody>\n",
              "</table>\n",
              "</div>"
            ],
            "text/plain": [
              "            filename  fold  target        category  esc10  src_file take\n",
              "0   1-100032-A-0.wav     1       0             dog   True    100032    A\n",
              "1  1-100038-A-14.wav     1      14  chirping_birds  False    100038    A\n",
              "2  1-100210-A-36.wav     1      36  vacuum_cleaner  False    100210    A\n",
              "3  1-100210-B-36.wav     1      36  vacuum_cleaner  False    100210    B\n",
              "4  1-101296-A-19.wav     1      19    thunderstorm  False    101296    A"
            ]
          },
          "metadata": {
            "tags": []
          },
          "execution_count": 4
        }
      ]
    },
    {
      "cell_type": "code",
      "metadata": {
        "id": "M29rKg8lfOBp"
      },
      "source": [
        "# The data was sorted into 5 \"Cross-validation\" folds, in which here, the first\n",
        "# four are used as training data, and the fifth is a validation set\n",
        "# Here's the paper: http://karol.piczak.com/papers/Piczak2015-ESC-Dataset.pdf\n",
        "train = df[df['fold']!=5]\n",
        "valid = df[df['fold']==5]"
      ],
      "execution_count": 5,
      "outputs": []
    },
    {
      "cell_type": "code",
      "metadata": {
        "id": "4PtZtZ5pewjd",
        "outputId": "90c99fd8-9db2-4a38-d6bf-22af9ee8e256",
        "colab": {
          "base_uri": "https://localhost:8080/"
        }
      },
      "source": [
        "# Load a filewith librosa, and display its sampling rate and length\n",
        "wav, sr = librosa.load('audio/1-100032-A-0.wav', sr=None)\n",
        "print(f'Sampling rate of the audio is {sr} and length of the audio is {len(wav)/sr} seconds')"
      ],
      "execution_count": 6,
      "outputs": [
        {
          "output_type": "stream",
          "text": [
            "Sampling rate of the audio is 44100 and length of the audio is 5.0 seconds\n"
          ],
          "name": "stdout"
        }
      ]
    },
    {
      "cell_type": "code",
      "metadata": {
        "id": "LUui5w8H4djV"
      },
      "source": [
        "# Here we are going to convert a Spectrogram into an image\n",
        "def spec_to_image(spec, eps=1e-6):\n",
        "  mean = spec.mean()\n",
        "  std = spec.std()\n",
        "  spec_norm = (spec - mean) / (std + eps)\n",
        "  spec_min, spec_max = spec_norm.min(), spec_norm.max()\n",
        "  spec_scaled = 255 * (spec_norm - spec_min) / (spec_max - spec_min)\n",
        "  spec_scaled = spec_scaled.astype(np.uint8)\n",
        "  return spec_scaled\n",
        "\n",
        "  # This spectrogram is normalized using z score normalization and \n",
        "  # scaled using min-max scaling so its values lie between 0 and 255"
      ],
      "execution_count": 8,
      "outputs": []
    },
    {
      "cell_type": "code",
      "metadata": {
        "id": "3VfXLoXQucv6"
      },
      "source": [
        "# This function give a mel spectrogram of the given file\n",
        "#  sr=None -> Librosa should use the native sampling rate of 44.1KHz to load the audio data instead of the default of 22.05KHz\n",
        "#  Next the first 5 seconds of given audio is extracted\n",
        "#  2048 samples are chosen for each window (about 46ms)\n",
        "#  A hop_length of 512 samples is chose, meaning the window is moved by skipping 512 samples to get the next time frame\n",
        "#  The number of mel filters is 128, makes the height of the spectrogram image 128\n",
        "#  fmin and fmax are the lowest and highest frequencies\n",
        "def get_melspectrogram_db(file_path, sr=None, n_fft=2048, hop_length=512, n_mels=128, fmin=20, fmax=8300, top_db=80):\n",
        "  wav, sr = librosa.load(file_path, sr=sr)\n",
        "  if wav.shape[0]<5*sr:\n",
        "     wav=np.pad(wav,int(np.ceil((5*sr-wav.shape[0])/2)),mode='reflect')\n",
        "  else:\n",
        "    wav=wav[:5*sr]\n",
        "\n",
        "  spec=librosa.feature.melspectrogram(wav, sr=sr, n_fft=n_fft, hop_length=hop_length, n_mels=n_mels, fmin=fmin, fmax=fmax)\n",
        "\n",
        "  #Librosa squares the magnitude of the spectrogram when constructing Mel Spectrogram, so we use power_to_db to convert power magnitude to decipels. top_db is used to threshold the output.\n",
        "  spec_db=librosa.power_to_db(spec, top_db=top_db)\n",
        "  return spec_db"
      ],
      "execution_count": 9,
      "outputs": []
    },
    {
      "cell_type": "code",
      "metadata": {
        "id": "XdBLjGXS5_jo",
        "outputId": "356bb38d-ade1-498b-b742-cf18065a4021",
        "colab": {
          "base_uri": "https://localhost:8080/",
          "height": 215,
          "referenced_widgets": [
            "ffeaa4f60a5c4b3297eaa7a350e6b066",
            "cbaabd38dbc04e4da8283e6a0432f24a",
            "a831d46f66d44ef6ba5ed9b447401ba5",
            "91a8b486d28e47ed9953034c47f8ff70",
            "15a9d199f83f42e2bc49028c1b51b084",
            "995f2a2e16884ed5a5d213bcd57ecada",
            "763945a8c96e4353ba7693ee59881dc7",
            "611cfa3513fe40f89c91b8eb2e6db872",
            "4bfe5fc44778449cba9033a2bdefc7f4",
            "c2e582d925ab4b349cb334ce57767ad5",
            "36e13499cb064e738e0dc8183ace0ec6",
            "548ea76cc8d34f559ae7f9022335d22f",
            "ea7e885876f14f1b9bbc6fcfd4d54b4d",
            "05160718409c4a83a0ec9330b96b9bc6",
            "94df1241e0d04534b415af598c2aa332",
            "ba9f84a9e2cd42f69370efce0ece2dfd"
          ]
        }
      },
      "source": [
        "# This is us loading data into pytorch by building dataloaders to\n",
        "# preprocess and load data.\n",
        "\n",
        "class ESC50Data(Dataset):\n",
        "  def __init__(self, base, df, in_col, out_col):\n",
        "    self.df = df\n",
        "    self.data = []\n",
        "    self.labels = []\n",
        "    self.c2i = {}\n",
        "    self.i2c = {}\n",
        "    self.categories = sorted(df[out_col].unique())\n",
        "    for i, category in enumerate(self.categories):\n",
        "      self.c2i[category] = i\n",
        "      self.i2c[i] = category\n",
        "    for ind in tqdm(range(len(df))):\n",
        "      row = df.iloc[ind]\n",
        "      file_path = os.path.join(base, row[in_col])\n",
        "      self.data.append(spec_to_image(get_melspectrogram_db(file_path))[np.newaxis,...])\n",
        "      self.labels.append(self.c2i[row['category']])\n",
        "\n",
        "  def __len__(self):\n",
        "     return len(self.data)\n",
        "  def __getitem__(self, idx):\n",
        "    return self.data[idx], self.labels[idx]\n",
        "\n",
        "train_data = ESC50Data('audio', train, 'filename', 'category')\n",
        "valid_data = ESC50Data('audio', valid, 'filename', 'category')\n",
        "train_loader = DataLoader(train_data, batch_size = 16, shuffle = True)\n",
        "valid_loader = DataLoader(valid_data, batch_size = 16, shuffle = True)"
      ],
      "execution_count": 10,
      "outputs": [
        {
          "output_type": "stream",
          "text": [
            "/usr/local/lib/python3.6/dist-packages/ipykernel_launcher.py:15: TqdmDeprecationWarning: This function will be removed in tqdm==5.0.0\n",
            "Please use `tqdm.notebook.tqdm` instead of `tqdm.tqdm_notebook`\n",
            "  from ipykernel import kernelapp as app\n"
          ],
          "name": "stderr"
        },
        {
          "output_type": "display_data",
          "data": {
            "application/vnd.jupyter.widget-view+json": {
              "model_id": "ffeaa4f60a5c4b3297eaa7a350e6b066",
              "version_minor": 0,
              "version_major": 2
            },
            "text/plain": [
              "HBox(children=(FloatProgress(value=0.0, max=1600.0), HTML(value='')))"
            ]
          },
          "metadata": {
            "tags": []
          }
        },
        {
          "output_type": "stream",
          "text": [
            "\n"
          ],
          "name": "stdout"
        },
        {
          "output_type": "stream",
          "text": [
            "/usr/local/lib/python3.6/dist-packages/ipykernel_launcher.py:15: TqdmDeprecationWarning: This function will be removed in tqdm==5.0.0\n",
            "Please use `tqdm.notebook.tqdm` instead of `tqdm.tqdm_notebook`\n",
            "  from ipykernel import kernelapp as app\n"
          ],
          "name": "stderr"
        },
        {
          "output_type": "display_data",
          "data": {
            "application/vnd.jupyter.widget-view+json": {
              "model_id": "4bfe5fc44778449cba9033a2bdefc7f4",
              "version_minor": 0,
              "version_major": 2
            },
            "text/plain": [
              "HBox(children=(FloatProgress(value=0.0, max=400.0), HTML(value='')))"
            ]
          },
          "metadata": {
            "tags": []
          }
        },
        {
          "output_type": "stream",
          "text": [
            "\n"
          ],
          "name": "stdout"
        }
      ]
    },
    {
      "cell_type": "code",
      "metadata": {
        "id": "vmOWZWaXdezM",
        "outputId": "c97c8829-52ca-4852-913e-736114e67ad3",
        "colab": {
          "base_uri": "https://localhost:8080/",
          "height": 82,
          "referenced_widgets": [
            "49afc169b7884ba8b7a0138b5e78cf6e",
            "27a9f76248dc4b9caeb87a326fd68024",
            "7a6d050190df460f833014764e740557",
            "225b1b5e602c4ce2bb51bfd904b5ea14",
            "937fec1575a44ccd9964c720ec15813e",
            "e8e3f024cead404fad39bc965f079ad5",
            "da0d0ea42eec45a48413c1e32b863dd4",
            "ca89457f413344698845c63ab7a39889"
          ]
        }
      },
      "source": [
        "# Build a model using a pre-trained model, resnet34\n",
        "from torchvision.models import resnet34\n",
        "if torch.cuda.is_available():\n",
        "  device=torch.device('cuda:0')\n",
        "else:\n",
        "  device = torch.device('cpu')\n",
        "\n",
        "resnet_model = resnet34(pretrained = True)\n",
        "resnet_model.fc = nn.Linear(512, 50)\n",
        "resnet_model.conv1 = nn.Conv2d(1, 64, kernel_size = (7,7), stride=(2,2), padding = (3, 3), bias = False)\n",
        "resnet_model = resnet_model.to(device)\n",
        "\n",
        "# The first conv1 layer of resnet34 accepts 3 channels so it is changed to accept 1 channel.\n",
        "# The final fc layer generates output for 1000 categoris so it is changed to 50 categories\n",
        "\n",
        "\n"
      ],
      "execution_count": 11,
      "outputs": [
        {
          "output_type": "stream",
          "text": [
            "Downloading: \"https://download.pytorch.org/models/resnet34-333f7ec4.pth\" to /root/.cache/torch/hub/checkpoints/resnet34-333f7ec4.pth\n"
          ],
          "name": "stderr"
        },
        {
          "output_type": "display_data",
          "data": {
            "application/vnd.jupyter.widget-view+json": {
              "model_id": "49afc169b7884ba8b7a0138b5e78cf6e",
              "version_minor": 0,
              "version_major": 2
            },
            "text/plain": [
              "HBox(children=(FloatProgress(value=0.0, max=87306240.0), HTML(value='')))"
            ]
          },
          "metadata": {
            "tags": []
          }
        },
        {
          "output_type": "stream",
          "text": [
            "\n"
          ],
          "name": "stdout"
        }
      ]
    },
    {
      "cell_type": "code",
      "metadata": {
        "id": "Rq4Kpmb1DZjx"
      },
      "source": [
        "def setlr(optimizer, lr):\n",
        "  for param_group in optimizer.param_groups:\n",
        "    param_group['lr'] = lr\n",
        "\n",
        "  return optimizer"
      ],
      "execution_count": 13,
      "outputs": []
    },
    {
      "cell_type": "code",
      "metadata": {
        "id": "APCcWrwBrU9A",
        "outputId": "f49b75d7-fee0-4e45-de68-a65112a0e2b8",
        "colab": {
          "base_uri": "https://localhost:8080/",
          "height": 1000,
          "referenced_widgets": [
            "cce15f3456c24e7fbd544cd9925db2a2",
            "3628d176e46c470f9e8d6f0c2ad25d8c",
            "57260760de3b4e5ebe8d5d9c045dc6f0",
            "86b443d4fc564bd7a4c3b69c384682cf",
            "4d05d0826e8b451d89c7acd30452d3ab",
            "f3416525f76d4c0e9611a659c1981e45",
            "540bc2e13645451aaf8ea427671f3e92",
            "dfaf3d64dae54baf9286cc50bf216966"
          ]
        }
      },
      "source": [
        "# Train the model\n",
        "learning_rate = 2e-4\n",
        "optimizer = optim.Adam(resnet_model.parameters(), lr = learning_rate)\n",
        "epochs = 50\n",
        "loss_fn = nn.CrossEntropyLoss()\n",
        "resnet_train_losses=[]\n",
        "resnet_valid_losses=[]\n",
        "def lr_decay(optimizer, epoch):\n",
        "  if epoch%10==0:\n",
        "    new_lr = learning_rate / (10**(epoch//10))\n",
        "    optimizer = setlr(optimizer, new_lr)\n",
        "    print(f'Changed learning rate to {new_lr}')\n",
        "  return optimizer\n",
        "\n",
        "def train(model, loss_fn, train_loser, valid_loader, epochs, optimizer, train_losses, valid_losses, change_lr = None):\n",
        "  for epoch in tqdm(range(1,epochs+1)):\n",
        "     model.train()\n",
        "     batch_losses=[]\n",
        "     if change_lr:\n",
        "       optimizer = change_lr(optimizer, epoch)\n",
        "     for i, data in enumerate(train_loader):\n",
        "       x,y = data\n",
        "       optimizer.zero_grad()\n",
        "       x = x.to(device, dtype = torch.float32)\n",
        "       y = y.to(device, dtype = torch.long)\n",
        "       y_hat = model(x)\n",
        "       loss = loss_fn(y_hat, y)\n",
        "       loss.backward()\n",
        "       batch_losses.append(loss.item())\n",
        "       optimizer.step()\n",
        "     train_losses.append(batch_losses)\n",
        "     print(f'Epoch = {epoch} Train-Loss : {np.mean(train_losses[-1])}')\n",
        "     model.eval()\n",
        "     batch_losses=[]\n",
        "     trace_y = []\n",
        "     trace_yhat = []\n",
        "\n",
        "     for i, data in enumerate(valid_loader):\n",
        "       x,y = data\n",
        "       x = x.to(device, dtype=torch.float32)\n",
        "       y = y.to(device, dtype = torch.long)\n",
        "       y_hat = model(x)\n",
        "       loss = loss_fn(y_hat, y)\n",
        "       trace_y.append(y.cpu().detach().numpy())\n",
        "       trace_yhat.append(y_hat.cpu().detach().numpy())\n",
        "       batch_losses.append(loss.item())\n",
        "\n",
        "     valid_losses.append(batch_losses)\n",
        "     trace_y = np.concatenate(trace_y)\n",
        "     trace_yhat = np.concatenate(trace_yhat)\n",
        "     accuracy = np.mean(trace_yhat.argmax(axis = 1) == trace_y)\n",
        "     print(f'Epoch - {epoch} Valid-Loss : {np.mean(valid_losses[-1])} Valid-Accuracy : {accuracy}')\n",
        "\n",
        "train(resnet_model, loss_fn, train_loader, valid_loader, epochs, optimizer, resnet_train_losses, resnet_valid_losses, lr_decay)"
      ],
      "execution_count": 14,
      "outputs": [
        {
          "output_type": "stream",
          "text": [
            "/usr/local/lib/python3.6/dist-packages/ipykernel_launcher.py:16: TqdmDeprecationWarning: This function will be removed in tqdm==5.0.0\n",
            "Please use `tqdm.notebook.tqdm` instead of `tqdm.tqdm_notebook`\n",
            "  app.launch_new_instance()\n"
          ],
          "name": "stderr"
        },
        {
          "output_type": "display_data",
          "data": {
            "application/vnd.jupyter.widget-view+json": {
              "model_id": "cce15f3456c24e7fbd544cd9925db2a2",
              "version_minor": 0,
              "version_major": 2
            },
            "text/plain": [
              "HBox(children=(FloatProgress(value=0.0, max=50.0), HTML(value='')))"
            ]
          },
          "metadata": {
            "tags": []
          }
        },
        {
          "output_type": "stream",
          "text": [
            "Epoch = 1 Train-Loss : 2.4670721137523652\n",
            "Epoch - 1 Valid-Loss : 1.838047149181366 Valid-Accuracy : 0.5\n",
            "Epoch = 2 Train-Loss : 1.17205652654171\n",
            "Epoch - 2 Valid-Loss : 1.5032180213928223 Valid-Accuracy : 0.5675\n",
            "Epoch = 3 Train-Loss : 0.7227743658423423\n",
            "Epoch - 3 Valid-Loss : 1.366144278049469 Valid-Accuracy : 0.635\n",
            "Epoch = 4 Train-Loss : 0.41935124464333057\n",
            "Epoch - 4 Valid-Loss : 1.591874840259552 Valid-Accuracy : 0.5975\n",
            "Epoch = 5 Train-Loss : 0.3184312891960144\n",
            "Epoch - 5 Valid-Loss : 1.582233418226242 Valid-Accuracy : 0.595\n",
            "Epoch = 6 Train-Loss : 0.2646806669980288\n",
            "Epoch - 6 Valid-Loss : 1.2127186977863311 Valid-Accuracy : 0.6725\n",
            "Epoch = 7 Train-Loss : 0.22681223645806312\n",
            "Epoch - 7 Valid-Loss : 1.3835820364952087 Valid-Accuracy : 0.6725\n",
            "Epoch = 8 Train-Loss : 0.1972420266829431\n",
            "Epoch - 8 Valid-Loss : 1.3868506807088852 Valid-Accuracy : 0.6875\n",
            "Epoch = 9 Train-Loss : 0.17719727667048574\n",
            "Epoch - 9 Valid-Loss : 1.3409508490562438 Valid-Accuracy : 0.67\n",
            "Changed learning rate to 2e-05\n",
            "Epoch = 10 Train-Loss : 0.09642765031196177\n",
            "Epoch - 10 Valid-Loss : 0.912894412279129 Valid-Accuracy : 0.745\n",
            "Epoch = 11 Train-Loss : 0.05078456324059516\n",
            "Epoch - 11 Valid-Loss : 0.9147202575206757 Valid-Accuracy : 0.735\n",
            "Epoch = 12 Train-Loss : 0.030888586868532002\n",
            "Epoch - 12 Valid-Loss : 0.9167944431304932 Valid-Accuracy : 0.7375\n",
            "Epoch = 13 Train-Loss : 0.02876457669073716\n",
            "Epoch - 13 Valid-Loss : 0.8741613900661469 Valid-Accuracy : 0.745\n",
            "Epoch = 14 Train-Loss : 0.02431522953789681\n",
            "Epoch - 14 Valid-Loss : 0.8441735273599624 Valid-Accuracy : 0.765\n",
            "Epoch = 15 Train-Loss : 0.020480005345307292\n",
            "Epoch - 15 Valid-Loss : 0.861011688709259 Valid-Accuracy : 0.7575\n",
            "Epoch = 16 Train-Loss : 0.015346727611031383\n",
            "Epoch - 16 Valid-Loss : 0.8508572387695312 Valid-Accuracy : 0.76\n",
            "Epoch = 17 Train-Loss : 0.017570622274652125\n",
            "Epoch - 17 Valid-Loss : 0.8493668013811111 Valid-Accuracy : 0.7625\n",
            "Epoch = 18 Train-Loss : 0.017084684795700012\n",
            "Epoch - 18 Valid-Loss : 0.8378540354967118 Valid-Accuracy : 0.775\n",
            "Epoch = 19 Train-Loss : 0.013613495770841836\n",
            "Epoch - 19 Valid-Loss : 0.8488247668743134 Valid-Accuracy : 0.765\n",
            "Changed learning rate to 2e-06\n",
            "Epoch = 20 Train-Loss : 0.012162915854714811\n",
            "Epoch - 20 Valid-Loss : 0.8498195931315422 Valid-Accuracy : 0.7625\n",
            "Epoch = 21 Train-Loss : 0.01667742378427647\n",
            "Epoch - 21 Valid-Loss : 0.8372267186641693 Valid-Accuracy : 0.7725\n",
            "Epoch = 22 Train-Loss : 0.01640083511127159\n",
            "Epoch - 22 Valid-Loss : 0.8582126665115356 Valid-Accuracy : 0.7675\n",
            "Epoch = 23 Train-Loss : 0.012606702910270542\n",
            "Epoch - 23 Valid-Loss : 0.825044214129448 Valid-Accuracy : 0.775\n",
            "Epoch = 24 Train-Loss : 0.014808566456194968\n",
            "Epoch - 24 Valid-Loss : 0.8505288469791412 Valid-Accuracy : 0.7625\n",
            "Epoch = 25 Train-Loss : 0.011644847658462822\n",
            "Epoch - 25 Valid-Loss : 0.8524591651558876 Valid-Accuracy : 0.765\n",
            "Epoch = 26 Train-Loss : 0.014925715182907879\n",
            "Epoch - 26 Valid-Loss : 0.8555202043056488 Valid-Accuracy : 0.775\n",
            "Epoch = 27 Train-Loss : 0.009780894224531949\n",
            "Epoch - 27 Valid-Loss : 0.8478837668895721 Valid-Accuracy : 0.7625\n",
            "Epoch = 28 Train-Loss : 0.015581012160982937\n",
            "Epoch - 28 Valid-Loss : 0.8361542916297913 Valid-Accuracy : 0.765\n",
            "Epoch = 29 Train-Loss : 0.011958975116722287\n",
            "Epoch - 29 Valid-Loss : 0.8414586877822876 Valid-Accuracy : 0.775\n",
            "Changed learning rate to 2.0000000000000002e-07\n",
            "Epoch = 30 Train-Loss : 0.009580644100205973\n",
            "Epoch - 30 Valid-Loss : 0.850038628578186 Valid-Accuracy : 0.7625\n",
            "Epoch = 31 Train-Loss : 0.011809283383190632\n",
            "Epoch - 31 Valid-Loss : 0.8508700478076935 Valid-Accuracy : 0.7725\n",
            "Epoch = 32 Train-Loss : 0.011801055666292087\n",
            "Epoch - 32 Valid-Loss : 0.8207492750883102 Valid-Accuracy : 0.78\n",
            "Epoch = 33 Train-Loss : 0.012756232774117962\n",
            "Epoch - 33 Valid-Loss : 0.826431657075882 Valid-Accuracy : 0.77\n",
            "Epoch = 34 Train-Loss : 0.010930219176225364\n",
            "Epoch - 34 Valid-Loss : 0.8650295007228851 Valid-Accuracy : 0.765\n",
            "Epoch = 35 Train-Loss : 0.01319569066632539\n",
            "Epoch - 35 Valid-Loss : 0.8388001656532288 Valid-Accuracy : 0.7675\n",
            "Epoch = 36 Train-Loss : 0.013117750277742743\n",
            "Epoch - 36 Valid-Loss : 0.8509293949604034 Valid-Accuracy : 0.7675\n",
            "Epoch = 37 Train-Loss : 0.011075261913938449\n",
            "Epoch - 37 Valid-Loss : 0.8497201704978943 Valid-Accuracy : 0.775\n",
            "Epoch = 38 Train-Loss : 0.011542227810714394\n",
            "Epoch - 38 Valid-Loss : 0.8594424796104431 Valid-Accuracy : 0.7675\n",
            "Epoch = 39 Train-Loss : 0.011946798409335315\n",
            "Epoch - 39 Valid-Loss : 0.8831294131278992 Valid-Accuracy : 0.765\n",
            "Changed learning rate to 2e-08\n",
            "Epoch = 40 Train-Loss : 0.010260531969834119\n",
            "Epoch - 40 Valid-Loss : 0.8427741956710816 Valid-Accuracy : 0.7725\n",
            "Epoch = 41 Train-Loss : 0.013581792369950562\n",
            "Epoch - 41 Valid-Loss : 0.8596165263652802 Valid-Accuracy : 0.7575\n",
            "Epoch = 42 Train-Loss : 0.0114811968349386\n",
            "Epoch - 42 Valid-Loss : 0.8499612671136856 Valid-Accuracy : 0.77\n",
            "Epoch = 43 Train-Loss : 0.011459419515449553\n",
            "Epoch - 43 Valid-Loss : 0.8807994782924652 Valid-Accuracy : 0.7675\n",
            "Epoch = 44 Train-Loss : 0.01248211866710335\n",
            "Epoch - 44 Valid-Loss : 0.8554575499892235 Valid-Accuracy : 0.7625\n",
            "Epoch = 45 Train-Loss : 0.010126055518630892\n",
            "Epoch - 45 Valid-Loss : 0.843381090760231 Valid-Accuracy : 0.7775\n",
            "Epoch = 46 Train-Loss : 0.0107916017586831\n",
            "Epoch - 46 Valid-Loss : 0.8585615996271372 Valid-Accuracy : 0.7675\n",
            "Epoch = 47 Train-Loss : 0.01146696874173358\n",
            "Epoch - 47 Valid-Loss : 0.8572592842578888 Valid-Accuracy : 0.775\n",
            "Epoch = 48 Train-Loss : 0.011226922305068\n",
            "Epoch - 48 Valid-Loss : 0.8401062023639679 Valid-Accuracy : 0.7725\n",
            "Epoch = 49 Train-Loss : 0.010746945498976857\n",
            "Epoch - 49 Valid-Loss : 0.8508784529566765 Valid-Accuracy : 0.7675\n",
            "Changed learning rate to 2e-09\n",
            "Epoch = 50 Train-Loss : 0.012771228419151157\n",
            "Epoch - 50 Valid-Loss : 0.8551009202003479 Valid-Accuracy : 0.7675\n",
            "\n"
          ],
          "name": "stdout"
        }
      ]
    },
    {
      "cell_type": "code",
      "metadata": {
        "id": "F6S92NTsdyiI",
        "outputId": "53c370be-ac1d-496f-9648-11884b4df733",
        "colab": {
          "base_uri": "https://localhost:8080/",
          "height": 391
        }
      },
      "source": [
        "tl = np.asarray(resnet_train_losses).ravel()\n",
        "vl = np.asarray(resnet_valid_losses).ravel()\n",
        "plt.figure(figsize=(12,6))\n",
        "plt.subplot(1,2,1)\n",
        "plt.plot(tl)\n",
        "plt.legend(['Train Loss'])\n",
        "plt.subplot(1,2,2)\n",
        "plt.plot(vl,'orange')"
      ],
      "execution_count": 15,
      "outputs": [
        {
          "output_type": "execute_result",
          "data": {
            "text/plain": [
              "[<matplotlib.lines.Line2D at 0x7fd11e131358>]"
            ]
          },
          "metadata": {
            "tags": []
          },
          "execution_count": 15
        },
        {
          "output_type": "display_data",
          "data": {
            "image/png": "[encoded data removed]",
            "text/plain": [
              "<Figure size 864x432 with 2 Axes>"
            ]
          },
          "metadata": {
            "tags": [],
            "needs_background": "light"
          }
        }
      ]
    }
  ]
}